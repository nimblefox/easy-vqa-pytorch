{
  "nbformat": 4,
  "nbformat_minor": 0,
  "metadata": {
    "colab": {
      "provenance": [],
      "collapsed_sections": [
        "HVLDD8BXTOBu",
        "9LXdubtNTdvN"
      ],
      "toc_visible": true
    },
    "kernelspec": {
      "name": "python3",
      "display_name": "Python 3"
    },
    "language_info": {
      "name": "python"
    },
    "accelerator": "GPU",
    "gpuClass": "standard"
  },
  "cells": [
    {
      "cell_type": "markdown",
      "source": [
        "# Install the easy-vqa package"
      ],
      "metadata": {
        "id": "jB9o1iX7gi3w"
      }
    },
    {
      "cell_type": "code",
      "source": [
        "# this package has all the data needed to train our model\n",
        "!pip install easy-vqa"
      ],
      "metadata": {
        "colab": {
          "base_uri": "https://localhost:8080/"
        },
        "id": "DdcNKpjTywpm",
        "outputId": "023452bc-f504-4e83-b282-5a531755698e"
      },
      "execution_count": null,
      "outputs": [
        {
          "output_type": "stream",
          "name": "stdout",
          "text": [
            "Looking in indexes: https://pypi.org/simple, https://us-python.pkg.dev/colab-wheels/public/simple/\n",
            "Collecting easy-vqa\n",
            "  Downloading easy_vqa-1.0-py3-none-any.whl (3.2 MB)\n",
            "\u001b[2K     \u001b[90m━━━━━━━━━━━━━━━━━━━━━━━━━━━━━━━━━━━━━━━━\u001b[0m \u001b[32m3.2/3.2 MB\u001b[0m \u001b[31m3.6 MB/s\u001b[0m eta \u001b[36m0:00:00\u001b[0m\n",
            "\u001b[?25hInstalling collected packages: easy-vqa\n",
            "Successfully installed easy-vqa-1.0\n"
          ]
        }
      ]
    },
    {
      "cell_type": "markdown",
      "source": [
        "# Data Preprocessing - Text"
      ],
      "metadata": {
        "id": "87utIWLKpUP9"
      }
    },
    {
      "cell_type": "code",
      "source": [
        "from easy_vqa import get_train_questions, get_test_questions, get_train_image_paths, get_test_image_paths, get_answers"
      ],
      "metadata": {
        "id": "koK9I-WYrmRS"
      },
      "execution_count": null,
      "outputs": []
    },
    {
      "cell_type": "code",
      "source": [
        "print('\\n--- Reading questions...')\n",
        "# Use the easy-vqa package\n",
        "train_qs, train_answers, train_image_ids = get_train_questions()\n",
        "test_qs, test_answers, test_image_ids = get_test_questions()\n",
        "print(f'Read {len(train_qs)} training questions and {len(test_qs)} testing questions.')"
      ],
      "metadata": {
        "colab": {
          "base_uri": "https://localhost:8080/"
        },
        "id": "yea_hNdyoMJP",
        "outputId": "2c60d5e5-194d-46dd-ad80-715b3ed98987"
      },
      "execution_count": null,
      "outputs": [
        {
          "output_type": "stream",
          "name": "stdout",
          "text": [
            "\n",
            "--- Reading questions...\n",
            "Read 38575 training questions and 9673 testing questions.\n"
          ]
        }
      ]
    },
    {
      "cell_type": "code",
      "source": [
        "test_qs[10:20]"
      ],
      "metadata": {
        "colab": {
          "base_uri": "https://localhost:8080/"
        },
        "id": "xRHeF2KLFCzH",
        "outputId": "d16a9ceb-d54e-48c9-c010-b5557e79151b"
      },
      "execution_count": null,
      "outputs": [
        {
          "output_type": "execute_result",
          "data": {
            "text/plain": [
              "['is there a brown shape?',\n",
              " 'what is the color of the rectangle?',\n",
              " 'is there not a circle in the image?',\n",
              " 'is there a triangle?',\n",
              " 'does the image contain a triangle?',\n",
              " 'does the image contain a black shape?',\n",
              " 'is no green shape present?',\n",
              " 'is there a brown shape in the image?',\n",
              " 'what is the blue shape?',\n",
              " 'what is the color of the triangle?']"
            ]
          },
          "metadata": {},
          "execution_count": 6
        }
      ]
    },
    {
      "cell_type": "code",
      "source": [
        "print('\\n--- Reading answers...')\n",
        "all_answers = get_answers()\n",
        "num_answers = len(all_answers)\n",
        "print(f'Found {num_answers} total answers:')\n",
        "print(all_answers)"
      ],
      "metadata": {
        "colab": {
          "base_uri": "https://localhost:8080/"
        },
        "id": "ZGI9vD5joMFu",
        "outputId": "35621cc6-3882-4dc9-e308-46d72967b205"
      },
      "execution_count": null,
      "outputs": [
        {
          "output_type": "stream",
          "name": "stdout",
          "text": [
            "\n",
            "--- Reading answers...\n",
            "Found 13 total answers:\n",
            "['circle', 'green', 'red', 'gray', 'yes', 'teal', 'black', 'rectangle', 'yellow', 'triangle', 'brown', 'blue', 'no']\n"
          ]
        }
      ]
    },
    {
      "cell_type": "markdown",
      "source": [
        "# Data Preprocessing - Images"
      ],
      "metadata": {
        "id": "z2t7gd1sgus6"
      }
    },
    {
      "cell_type": "code",
      "source": [
        "import torch\n",
        "import torchvision\n",
        "import torchvision.transforms as T\n",
        "from torchvision.transforms import functional as F\n",
        "from PIL import Image\n",
        "\n",
        "def load_and_process_image(image_path):\n",
        "    # Load image\n",
        "    im = Image.open(image_path)\n",
        "    im = F.to_tensor(im)\n",
        "    return im\n",
        "\n",
        "def read_images(paths):\n",
        "    # paths is a dict mapping image ID to image path\n",
        "    # Returns a dict mapping image ID to the processed image\n",
        "    ims = {}\n",
        "    for image_id, image_path in paths.items():\n",
        "        ims[image_id] = load_and_process_image(image_path)\n",
        "    return ims\n",
        "\n",
        "print('--- Reading/processing images from image paths of the vqa library ---\\n')\n",
        "train_ims = read_images(get_train_image_paths())\n",
        "test_ims = read_images(get_test_image_paths())\n",
        "im_shape = train_ims[0].shape\n",
        "print(f'Read {len(train_ims)} training images and {len(test_ims)} testing images.')\n",
        "print(f'Each image has shape {im_shape}.')"
      ],
      "metadata": {
        "colab": {
          "base_uri": "https://localhost:8080/"
        },
        "id": "xS062n84iLpF",
        "outputId": "30143825-4cc5-4a22-ba3f-2acaf5dac563"
      },
      "execution_count": null,
      "outputs": [
        {
          "output_type": "stream",
          "name": "stdout",
          "text": [
            "--- Reading/processing images from image paths of the vqa library ---\n",
            "\n",
            "Read 4000 training images and 1000 testing images.\n",
            "Each image has shape torch.Size([3, 64, 64]).\n"
          ]
        }
      ]
    },
    {
      "cell_type": "markdown",
      "source": [
        "# A peek into the image+text data"
      ],
      "metadata": {
        "id": "oNs3aecGlwza"
      }
    },
    {
      "cell_type": "code",
      "source": [
        "import pandas as pd\n",
        "df = pd.DataFrame(list(zip(train_qs, train_answers, train_image_ids)), columns =['Question', 'Answer', 'Image ID'])\n",
        "df.head(10)"
      ],
      "metadata": {
        "colab": {
          "base_uri": "https://localhost:8080/",
          "height": 363
        },
        "id": "HVYkDopjxT-8",
        "outputId": "a91eb2ad-eaf6-44af-89cd-779f89e73a58"
      },
      "execution_count": null,
      "outputs": [
        {
          "output_type": "execute_result",
          "data": {
            "text/plain": [
              "                                   Question     Answer  Image ID\n",
              "0                   what is the blue shape?  rectangle         0\n",
              "1                  what color is the shape?       blue         0\n",
              "2       does the image contain a rectangle?        yes         0\n",
              "3         is there a triangle in the image?         no         0\n",
              "4                   is there a black shape?         no         0\n",
              "5  does the image not contain a gray shape?        yes         0\n",
              "6        is there a red shape in the image?         no         0\n",
              "7   does the image not contain a red shape?        yes         0\n",
              "8                is there not a blue shape?         no         0\n",
              "9   is there not a blue shape in the image?         no         0"
            ],
            "text/html": [
              "\n",
              "  <div id=\"df-c2e686d1-93f7-41ba-9556-13032d9e7b21\">\n",
              "    <div class=\"colab-df-container\">\n",
              "      <div>\n",
              "<style scoped>\n",
              "    .dataframe tbody tr th:only-of-type {\n",
              "        vertical-align: middle;\n",
              "    }\n",
              "\n",
              "    .dataframe tbody tr th {\n",
              "        vertical-align: top;\n",
              "    }\n",
              "\n",
              "    .dataframe thead th {\n",
              "        text-align: right;\n",
              "    }\n",
              "</style>\n",
              "<table border=\"1\" class=\"dataframe\">\n",
              "  <thead>\n",
              "    <tr style=\"text-align: right;\">\n",
              "      <th></th>\n",
              "      <th>Question</th>\n",
              "      <th>Answer</th>\n",
              "      <th>Image ID</th>\n",
              "    </tr>\n",
              "  </thead>\n",
              "  <tbody>\n",
              "    <tr>\n",
              "      <th>0</th>\n",
              "      <td>what is the blue shape?</td>\n",
              "      <td>rectangle</td>\n",
              "      <td>0</td>\n",
              "    </tr>\n",
              "    <tr>\n",
              "      <th>1</th>\n",
              "      <td>what color is the shape?</td>\n",
              "      <td>blue</td>\n",
              "      <td>0</td>\n",
              "    </tr>\n",
              "    <tr>\n",
              "      <th>2</th>\n",
              "      <td>does the image contain a rectangle?</td>\n",
              "      <td>yes</td>\n",
              "      <td>0</td>\n",
              "    </tr>\n",
              "    <tr>\n",
              "      <th>3</th>\n",
              "      <td>is there a triangle in the image?</td>\n",
              "      <td>no</td>\n",
              "      <td>0</td>\n",
              "    </tr>\n",
              "    <tr>\n",
              "      <th>4</th>\n",
              "      <td>is there a black shape?</td>\n",
              "      <td>no</td>\n",
              "      <td>0</td>\n",
              "    </tr>\n",
              "    <tr>\n",
              "      <th>5</th>\n",
              "      <td>does the image not contain a gray shape?</td>\n",
              "      <td>yes</td>\n",
              "      <td>0</td>\n",
              "    </tr>\n",
              "    <tr>\n",
              "      <th>6</th>\n",
              "      <td>is there a red shape in the image?</td>\n",
              "      <td>no</td>\n",
              "      <td>0</td>\n",
              "    </tr>\n",
              "    <tr>\n",
              "      <th>7</th>\n",
              "      <td>does the image not contain a red shape?</td>\n",
              "      <td>yes</td>\n",
              "      <td>0</td>\n",
              "    </tr>\n",
              "    <tr>\n",
              "      <th>8</th>\n",
              "      <td>is there not a blue shape?</td>\n",
              "      <td>no</td>\n",
              "      <td>0</td>\n",
              "    </tr>\n",
              "    <tr>\n",
              "      <th>9</th>\n",
              "      <td>is there not a blue shape in the image?</td>\n",
              "      <td>no</td>\n",
              "      <td>0</td>\n",
              "    </tr>\n",
              "  </tbody>\n",
              "</table>\n",
              "</div>\n",
              "      <button class=\"colab-df-convert\" onclick=\"convertToInteractive('df-c2e686d1-93f7-41ba-9556-13032d9e7b21')\"\n",
              "              title=\"Convert this dataframe to an interactive table.\"\n",
              "              style=\"display:none;\">\n",
              "        \n",
              "  <svg xmlns=\"http://www.w3.org/2000/svg\" height=\"24px\"viewBox=\"0 0 24 24\"\n",
              "       width=\"24px\">\n",
              "    <path d=\"M0 0h24v24H0V0z\" fill=\"none\"/>\n",
              "    <path d=\"M18.56 5.44l.94 2.06.94-2.06 2.06-.94-2.06-.94-.94-2.06-.94 2.06-2.06.94zm-11 1L8.5 8.5l.94-2.06 2.06-.94-2.06-.94L8.5 2.5l-.94 2.06-2.06.94zm10 10l.94 2.06.94-2.06 2.06-.94-2.06-.94-.94-2.06-.94 2.06-2.06.94z\"/><path d=\"M17.41 7.96l-1.37-1.37c-.4-.4-.92-.59-1.43-.59-.52 0-1.04.2-1.43.59L10.3 9.45l-7.72 7.72c-.78.78-.78 2.05 0 2.83L4 21.41c.39.39.9.59 1.41.59.51 0 1.02-.2 1.41-.59l7.78-7.78 2.81-2.81c.8-.78.8-2.07 0-2.86zM5.41 20L4 18.59l7.72-7.72 1.47 1.35L5.41 20z\"/>\n",
              "  </svg>\n",
              "      </button>\n",
              "      \n",
              "  <style>\n",
              "    .colab-df-container {\n",
              "      display:flex;\n",
              "      flex-wrap:wrap;\n",
              "      gap: 12px;\n",
              "    }\n",
              "\n",
              "    .colab-df-convert {\n",
              "      background-color: #E8F0FE;\n",
              "      border: none;\n",
              "      border-radius: 50%;\n",
              "      cursor: pointer;\n",
              "      display: none;\n",
              "      fill: #1967D2;\n",
              "      height: 32px;\n",
              "      padding: 0 0 0 0;\n",
              "      width: 32px;\n",
              "    }\n",
              "\n",
              "    .colab-df-convert:hover {\n",
              "      background-color: #E2EBFA;\n",
              "      box-shadow: 0px 1px 2px rgba(60, 64, 67, 0.3), 0px 1px 3px 1px rgba(60, 64, 67, 0.15);\n",
              "      fill: #174EA6;\n",
              "    }\n",
              "\n",
              "    [theme=dark] .colab-df-convert {\n",
              "      background-color: #3B4455;\n",
              "      fill: #D2E3FC;\n",
              "    }\n",
              "\n",
              "    [theme=dark] .colab-df-convert:hover {\n",
              "      background-color: #434B5C;\n",
              "      box-shadow: 0px 1px 3px 1px rgba(0, 0, 0, 0.15);\n",
              "      filter: drop-shadow(0px 1px 2px rgba(0, 0, 0, 0.3));\n",
              "      fill: #FFFFFF;\n",
              "    }\n",
              "  </style>\n",
              "\n",
              "      <script>\n",
              "        const buttonEl =\n",
              "          document.querySelector('#df-c2e686d1-93f7-41ba-9556-13032d9e7b21 button.colab-df-convert');\n",
              "        buttonEl.style.display =\n",
              "          google.colab.kernel.accessAllowed ? 'block' : 'none';\n",
              "\n",
              "        async function convertToInteractive(key) {\n",
              "          const element = document.querySelector('#df-c2e686d1-93f7-41ba-9556-13032d9e7b21');\n",
              "          const dataTable =\n",
              "            await google.colab.kernel.invokeFunction('convertToInteractive',\n",
              "                                                     [key], {});\n",
              "          if (!dataTable) return;\n",
              "\n",
              "          const docLinkHtml = 'Like what you see? Visit the ' +\n",
              "            '<a target=\"_blank\" href=https://colab.research.google.com/notebooks/data_table.ipynb>data table notebook</a>'\n",
              "            + ' to learn more about interactive tables.';\n",
              "          element.innerHTML = '';\n",
              "          dataTable['output_type'] = 'display_data';\n",
              "          await google.colab.output.renderOutput(dataTable, element);\n",
              "          const docLink = document.createElement('div');\n",
              "          docLink.innerHTML = docLinkHtml;\n",
              "          element.appendChild(docLink);\n",
              "        }\n",
              "      </script>\n",
              "    </div>\n",
              "  </div>\n",
              "  "
            ]
          },
          "metadata": {},
          "execution_count": 6
        }
      ]
    },
    {
      "cell_type": "code",
      "source": [
        "import torchvision.utils as utils\n",
        "from torchvision import transforms\n",
        "\n",
        "# print multiple images\n",
        "# images = 1\n",
        "# batch = torch.empty((images, 3, 64, 64))\n",
        "# for i in range(images):\n",
        "#     batch[i] = train_ims[i]\n",
        "\n",
        "# Create a grid of images\n",
        "id = 0\n",
        "grid = utils.make_grid(train_ims[id], nrow=2)\n",
        "# Convert the grid to a PIL image\n",
        "image = transforms.ToPILImage()(grid)\n",
        "# Show the image\n",
        "image.show()"
      ],
      "metadata": {
        "colab": {
          "base_uri": "https://localhost:8080/",
          "height": 81
        },
        "id": "eGkLAsgLmpBE",
        "outputId": "cd14f640-29e8-4492-aec9-5e37d20307e8"
      },
      "execution_count": null,
      "outputs": [
        {
          "output_type": "display_data",
          "data": {
            "text/plain": [
              "<PIL.Image.Image image mode=RGB size=64x64 at 0x7FE6F97B1640>"
            ],
            "image/png": "[encoded data removed]"
          },
          "metadata": {}
        }
      ]
    },
    {
      "cell_type": "markdown",
      "source": [
        "# Creating a Bag of Words vectors for questions"
      ],
      "metadata": {
        "id": "sACv9-YiJNCM"
      }
    },
    {
      "cell_type": "code",
      "source": [
        "from sklearn.feature_extraction.text import CountVectorizer, TfidfVectorizer\n",
        "\n",
        "# create the vectorizer, fit to train and transform both train and test\n",
        "vectorizer = CountVectorizer(binary=True)\n",
        "train_vectorizer = vectorizer.fit(train_qs)\n",
        "train_X_seqs = train_vectorizer.transform(train_qs)\n",
        "test_X_seqs = train_vectorizer.transform(test_qs)"
      ],
      "metadata": {
        "id": "OA-uYmeVCh_O"
      },
      "execution_count": null,
      "outputs": []
    },
    {
      "cell_type": "code",
      "source": [
        "# You can see the dictionary created \n",
        "vocab_size = len(vectorizer.vocabulary_)\n",
        "vectorizer.vocabulary_"
      ],
      "metadata": {
        "id": "G9pdemAnD0PQ",
        "colab": {
          "base_uri": "https://localhost:8080/"
        },
        "outputId": "dac1ccf5-b608-4d43-da95-8b26d64f68d0"
      },
      "execution_count": null,
      "outputs": [
        {
          "output_type": "execute_result",
          "data": {
            "text/plain": [
              "{'what': 23,\n",
              " 'is': 11,\n",
              " 'the': 20,\n",
              " 'blue': 1,\n",
              " 'shape': 18,\n",
              " 'color': 4,\n",
              " 'does': 6,\n",
              " 'image': 9,\n",
              " 'contain': 5,\n",
              " 'rectangle': 16,\n",
              " 'there': 21,\n",
              " 'triangle': 22,\n",
              " 'in': 10,\n",
              " 'black': 0,\n",
              " 'not': 13,\n",
              " 'gray': 7,\n",
              " 'red': 17,\n",
              " 'yellow': 24,\n",
              " 'teal': 19,\n",
              " 'present': 15,\n",
              " 'green': 8,\n",
              " 'of': 14,\n",
              " 'circle': 3,\n",
              " 'no': 12,\n",
              " 'brown': 2}"
            ]
          },
          "metadata": {},
          "execution_count": 9
        }
      ]
    },
    {
      "cell_type": "code",
      "source": [
        "# converting scipy array to numpy array\n",
        "train_X_seqs = train_X_seqs.toarray()\n",
        "test_X_seqs = test_X_seqs.toarray()\n",
        "\n",
        "# Questions in array format\n",
        "print(f'\\nbinary vectors in array(dense) format') \n",
        "print(train_X_seqs)\n",
        "print(f'\\nThe shape of the binary vectors is : {train_X_seqs.shape}')"
      ],
      "metadata": {
        "colab": {
          "base_uri": "https://localhost:8080/"
        },
        "id": "xtr0fySEFeZs",
        "outputId": "3b255687-3d64-4e61-979e-756a3c703e2c"
      },
      "execution_count": null,
      "outputs": [
        {
          "output_type": "stream",
          "name": "stdout",
          "text": [
            "\n",
            "binary vectors in array(dense) format\n",
            "[[0 1 0 ... 0 1 0]\n",
            " [0 0 0 ... 0 1 0]\n",
            " [0 0 0 ... 0 0 0]\n",
            " ...\n",
            " [1 0 0 ... 0 0 0]\n",
            " [0 0 0 ... 0 0 0]\n",
            " [0 0 0 ... 0 0 0]]\n",
            "\n",
            "The shape of the binary vectors is : (38575, 25)\n"
          ]
        }
      ]
    },
    {
      "cell_type": "code",
      "source": [
        "# lets visualize it better \n",
        "features = vectorizer.get_feature_names_out()\n",
        "df_count = pd.DataFrame(train_X_seqs, columns = features)\n",
        "df_count"
      ],
      "metadata": {
        "colab": {
          "base_uri": "https://localhost:8080/",
          "height": 487
        },
        "id": "vg4__Lw4FeWR",
        "outputId": "1794a6a8-c2d0-4f6c-ed27-04d8e9d1c3ff"
      },
      "execution_count": null,
      "outputs": [
        {
          "output_type": "execute_result",
          "data": {
            "text/plain": [
              "       black  blue  brown  circle  color  contain  does  gray  green  image  \\\n",
              "0          0     1      0       0      0        0     0     0      0      0   \n",
              "1          0     0      0       0      1        0     0     0      0      0   \n",
              "2          0     0      0       0      0        1     1     0      0      1   \n",
              "3          0     0      0       0      0        0     0     0      0      1   \n",
              "4          1     0      0       0      0        0     0     0      0      0   \n",
              "...      ...   ...    ...     ...    ...      ...   ...   ...    ...    ...   \n",
              "38570      0     0      0       1      0        1     1     0      0      1   \n",
              "38571      0     0      0       0      0        0     0     0      0      0   \n",
              "38572      1     0      0       0      0        0     0     0      0      0   \n",
              "38573      0     0      0       0      0        0     0     1      0      0   \n",
              "38574      0     0      0       0      0        1     1     0      1      1   \n",
              "\n",
              "       ...  present  rectangle  red  shape  teal  the  there  triangle  what  \\\n",
              "0      ...        0          0    0      1     0    1      0         0     1   \n",
              "1      ...        0          0    0      1     0    1      0         0     1   \n",
              "2      ...        0          1    0      0     0    1      0         0     0   \n",
              "3      ...        0          0    0      0     0    1      1         1     0   \n",
              "4      ...        0          0    0      1     0    0      1         0     0   \n",
              "...    ...      ...        ...  ...    ...   ...  ...    ...       ...   ...   \n",
              "38570  ...        0          0    0      0     0    1      0         0     0   \n",
              "38571  ...        1          0    0      0     0    0      0         1     0   \n",
              "38572  ...        0          0    0      1     0    0      1         0     0   \n",
              "38573  ...        1          0    0      1     0    0      0         0     0   \n",
              "38574  ...        0          0    0      1     0    1      0         0     0   \n",
              "\n",
              "       yellow  \n",
              "0           0  \n",
              "1           0  \n",
              "2           0  \n",
              "3           0  \n",
              "4           0  \n",
              "...       ...  \n",
              "38570       0  \n",
              "38571       0  \n",
              "38572       0  \n",
              "38573       0  \n",
              "38574       0  \n",
              "\n",
              "[38575 rows x 25 columns]"
            ],
            "text/html": [
              "\n",
              "  <div id=\"df-106ddf7d-bcdd-4228-896d-a268d8496453\">\n",
              "    <div class=\"colab-df-container\">\n",
              "      <div>\n",
              "<style scoped>\n",
              "    .dataframe tbody tr th:only-of-type {\n",
              "        vertical-align: middle;\n",
              "    }\n",
              "\n",
              "    .dataframe tbody tr th {\n",
              "        vertical-align: top;\n",
              "    }\n",
              "\n",
              "    .dataframe thead th {\n",
              "        text-align: right;\n",
              "    }\n",
              "</style>\n",
              "<table border=\"1\" class=\"dataframe\">\n",
              "  <thead>\n",
              "    <tr style=\"text-align: right;\">\n",
              "      <th></th>\n",
              "      <th>black</th>\n",
              "      <th>blue</th>\n",
              "      <th>brown</th>\n",
              "      <th>circle</th>\n",
              "      <th>color</th>\n",
              "      <th>contain</th>\n",
              "      <th>does</th>\n",
              "      <th>gray</th>\n",
              "      <th>green</th>\n",
              "      <th>image</th>\n",
              "      <th>...</th>\n",
              "      <th>present</th>\n",
              "      <th>rectangle</th>\n",
              "      <th>red</th>\n",
              "      <th>shape</th>\n",
              "      <th>teal</th>\n",
              "      <th>the</th>\n",
              "      <th>there</th>\n",
              "      <th>triangle</th>\n",
              "      <th>what</th>\n",
              "      <th>yellow</th>\n",
              "    </tr>\n",
              "  </thead>\n",
              "  <tbody>\n",
              "    <tr>\n",
              "      <th>0</th>\n",
              "      <td>0</td>\n",
              "      <td>1</td>\n",
              "      <td>0</td>\n",
              "      <td>0</td>\n",
              "      <td>0</td>\n",
              "      <td>0</td>\n",
              "      <td>0</td>\n",
              "      <td>0</td>\n",
              "      <td>0</td>\n",
              "      <td>0</td>\n",
              "      <td>...</td>\n",
              "      <td>0</td>\n",
              "      <td>0</td>\n",
              "      <td>0</td>\n",
              "      <td>1</td>\n",
              "      <td>0</td>\n",
              "      <td>1</td>\n",
              "      <td>0</td>\n",
              "      <td>0</td>\n",
              "      <td>1</td>\n",
              "      <td>0</td>\n",
              "    </tr>\n",
              "    <tr>\n",
              "      <th>1</th>\n",
              "      <td>0</td>\n",
              "      <td>0</td>\n",
              "      <td>0</td>\n",
              "      <td>0</td>\n",
              "      <td>1</td>\n",
              "      <td>0</td>\n",
              "      <td>0</td>\n",
              "      <td>0</td>\n",
              "      <td>0</td>\n",
              "      <td>0</td>\n",
              "      <td>...</td>\n",
              "      <td>0</td>\n",
              "      <td>0</td>\n",
              "      <td>0</td>\n",
              "      <td>1</td>\n",
              "      <td>0</td>\n",
              "      <td>1</td>\n",
              "      <td>0</td>\n",
              "      <td>0</td>\n",
              "      <td>1</td>\n",
              "      <td>0</td>\n",
              "    </tr>\n",
              "    <tr>\n",
              "      <th>2</th>\n",
              "      <td>0</td>\n",
              "      <td>0</td>\n",
              "      <td>0</td>\n",
              "      <td>0</td>\n",
              "      <td>0</td>\n",
              "      <td>1</td>\n",
              "      <td>1</td>\n",
              "      <td>0</td>\n",
              "      <td>0</td>\n",
              "      <td>1</td>\n",
              "      <td>...</td>\n",
              "      <td>0</td>\n",
              "      <td>1</td>\n",
              "      <td>0</td>\n",
              "      <td>0</td>\n",
              "      <td>0</td>\n",
              "      <td>1</td>\n",
              "      <td>0</td>\n",
              "      <td>0</td>\n",
              "      <td>0</td>\n",
              "      <td>0</td>\n",
              "    </tr>\n",
              "    <tr>\n",
              "      <th>3</th>\n",
              "      <td>0</td>\n",
              "      <td>0</td>\n",
              "      <td>0</td>\n",
              "      <td>0</td>\n",
              "      <td>0</td>\n",
              "      <td>0</td>\n",
              "      <td>0</td>\n",
              "      <td>0</td>\n",
              "      <td>0</td>\n",
              "      <td>1</td>\n",
              "      <td>...</td>\n",
              "      <td>0</td>\n",
              "      <td>0</td>\n",
              "      <td>0</td>\n",
              "      <td>0</td>\n",
              "      <td>0</td>\n",
              "      <td>1</td>\n",
              "      <td>1</td>\n",
              "      <td>1</td>\n",
              "      <td>0</td>\n",
              "      <td>0</td>\n",
              "    </tr>\n",
              "    <tr>\n",
              "      <th>4</th>\n",
              "      <td>1</td>\n",
              "      <td>0</td>\n",
              "      <td>0</td>\n",
              "      <td>0</td>\n",
              "      <td>0</td>\n",
              "      <td>0</td>\n",
              "      <td>0</td>\n",
              "      <td>0</td>\n",
              "      <td>0</td>\n",
              "      <td>0</td>\n",
              "      <td>...</td>\n",
              "      <td>0</td>\n",
              "      <td>0</td>\n",
              "      <td>0</td>\n",
              "      <td>1</td>\n",
              "      <td>0</td>\n",
              "      <td>0</td>\n",
              "      <td>1</td>\n",
              "      <td>0</td>\n",
              "      <td>0</td>\n",
              "      <td>0</td>\n",
              "    </tr>\n",
              "    <tr>\n",
              "      <th>...</th>\n",
              "      <td>...</td>\n",
              "      <td>...</td>\n",
              "      <td>...</td>\n",
              "      <td>...</td>\n",
              "      <td>...</td>\n",
              "      <td>...</td>\n",
              "      <td>...</td>\n",
              "      <td>...</td>\n",
              "      <td>...</td>\n",
              "      <td>...</td>\n",
              "      <td>...</td>\n",
              "      <td>...</td>\n",
              "      <td>...</td>\n",
              "      <td>...</td>\n",
              "      <td>...</td>\n",
              "      <td>...</td>\n",
              "      <td>...</td>\n",
              "      <td>...</td>\n",
              "      <td>...</td>\n",
              "      <td>...</td>\n",
              "      <td>...</td>\n",
              "    </tr>\n",
              "    <tr>\n",
              "      <th>38570</th>\n",
              "      <td>0</td>\n",
              "      <td>0</td>\n",
              "      <td>0</td>\n",
              "      <td>1</td>\n",
              "      <td>0</td>\n",
              "      <td>1</td>\n",
              "      <td>1</td>\n",
              "      <td>0</td>\n",
              "      <td>0</td>\n",
              "      <td>1</td>\n",
              "      <td>...</td>\n",
              "      <td>0</td>\n",
              "      <td>0</td>\n",
              "      <td>0</td>\n",
              "      <td>0</td>\n",
              "      <td>0</td>\n",
              "      <td>1</td>\n",
              "      <td>0</td>\n",
              "      <td>0</td>\n",
              "      <td>0</td>\n",
              "      <td>0</td>\n",
              "    </tr>\n",
              "    <tr>\n",
              "      <th>38571</th>\n",
              "      <td>0</td>\n",
              "      <td>0</td>\n",
              "      <td>0</td>\n",
              "      <td>0</td>\n",
              "      <td>0</td>\n",
              "      <td>0</td>\n",
              "      <td>0</td>\n",
              "      <td>0</td>\n",
              "      <td>0</td>\n",
              "      <td>0</td>\n",
              "      <td>...</td>\n",
              "      <td>1</td>\n",
              "      <td>0</td>\n",
              "      <td>0</td>\n",
              "      <td>0</td>\n",
              "      <td>0</td>\n",
              "      <td>0</td>\n",
              "      <td>0</td>\n",
              "      <td>1</td>\n",
              "      <td>0</td>\n",
              "      <td>0</td>\n",
              "    </tr>\n",
              "    <tr>\n",
              "      <th>38572</th>\n",
              "      <td>1</td>\n",
              "      <td>0</td>\n",
              "      <td>0</td>\n",
              "      <td>0</td>\n",
              "      <td>0</td>\n",
              "      <td>0</td>\n",
              "      <td>0</td>\n",
              "      <td>0</td>\n",
              "      <td>0</td>\n",
              "      <td>0</td>\n",
              "      <td>...</td>\n",
              "      <td>0</td>\n",
              "      <td>0</td>\n",
              "      <td>0</td>\n",
              "      <td>1</td>\n",
              "      <td>0</td>\n",
              "      <td>0</td>\n",
              "      <td>1</td>\n",
              "      <td>0</td>\n",
              "      <td>0</td>\n",
              "      <td>0</td>\n",
              "    </tr>\n",
              "    <tr>\n",
              "      <th>38573</th>\n",
              "      <td>0</td>\n",
              "      <td>0</td>\n",
              "      <td>0</td>\n",
              "      <td>0</td>\n",
              "      <td>0</td>\n",
              "      <td>0</td>\n",
              "      <td>0</td>\n",
              "      <td>1</td>\n",
              "      <td>0</td>\n",
              "      <td>0</td>\n",
              "      <td>...</td>\n",
              "      <td>1</td>\n",
              "      <td>0</td>\n",
              "      <td>0</td>\n",
              "      <td>1</td>\n",
              "      <td>0</td>\n",
              "      <td>0</td>\n",
              "      <td>0</td>\n",
              "      <td>0</td>\n",
              "      <td>0</td>\n",
              "      <td>0</td>\n",
              "    </tr>\n",
              "    <tr>\n",
              "      <th>38574</th>\n",
              "      <td>0</td>\n",
              "      <td>0</td>\n",
              "      <td>0</td>\n",
              "      <td>0</td>\n",
              "      <td>0</td>\n",
              "      <td>1</td>\n",
              "      <td>1</td>\n",
              "      <td>0</td>\n",
              "      <td>1</td>\n",
              "      <td>1</td>\n",
              "      <td>...</td>\n",
              "      <td>0</td>\n",
              "      <td>0</td>\n",
              "      <td>0</td>\n",
              "      <td>1</td>\n",
              "      <td>0</td>\n",
              "      <td>1</td>\n",
              "      <td>0</td>\n",
              "      <td>0</td>\n",
              "      <td>0</td>\n",
              "      <td>0</td>\n",
              "    </tr>\n",
              "  </tbody>\n",
              "</table>\n",
              "<p>38575 rows × 25 columns</p>\n",
              "</div>\n",
              "      <button class=\"colab-df-convert\" onclick=\"convertToInteractive('df-106ddf7d-bcdd-4228-896d-a268d8496453')\"\n",
              "              title=\"Convert this dataframe to an interactive table.\"\n",
              "              style=\"display:none;\">\n",
              "        \n",
              "  <svg xmlns=\"http://www.w3.org/2000/svg\" height=\"24px\"viewBox=\"0 0 24 24\"\n",
              "       width=\"24px\">\n",
              "    <path d=\"M0 0h24v24H0V0z\" fill=\"none\"/>\n",
              "    <path d=\"M18.56 5.44l.94 2.06.94-2.06 2.06-.94-2.06-.94-.94-2.06-.94 2.06-2.06.94zm-11 1L8.5 8.5l.94-2.06 2.06-.94-2.06-.94L8.5 2.5l-.94 2.06-2.06.94zm10 10l.94 2.06.94-2.06 2.06-.94-2.06-.94-.94-2.06-.94 2.06-2.06.94z\"/><path d=\"M17.41 7.96l-1.37-1.37c-.4-.4-.92-.59-1.43-.59-.52 0-1.04.2-1.43.59L10.3 9.45l-7.72 7.72c-.78.78-.78 2.05 0 2.83L4 21.41c.39.39.9.59 1.41.59.51 0 1.02-.2 1.41-.59l7.78-7.78 2.81-2.81c.8-.78.8-2.07 0-2.86zM5.41 20L4 18.59l7.72-7.72 1.47 1.35L5.41 20z\"/>\n",
              "  </svg>\n",
              "      </button>\n",
              "      \n",
              "  <style>\n",
              "    .colab-df-container {\n",
              "      display:flex;\n",
              "      flex-wrap:wrap;\n",
              "      gap: 12px;\n",
              "    }\n",
              "\n",
              "    .colab-df-convert {\n",
              "      background-color: #E8F0FE;\n",
              "      border: none;\n",
              "      border-radius: 50%;\n",
              "      cursor: pointer;\n",
              "      display: none;\n",
              "      fill: #1967D2;\n",
              "      height: 32px;\n",
              "      padding: 0 0 0 0;\n",
              "      width: 32px;\n",
              "    }\n",
              "\n",
              "    .colab-df-convert:hover {\n",
              "      background-color: #E2EBFA;\n",
              "      box-shadow: 0px 1px 2px rgba(60, 64, 67, 0.3), 0px 1px 3px 1px rgba(60, 64, 67, 0.15);\n",
              "      fill: #174EA6;\n",
              "    }\n",
              "\n",
              "    [theme=dark] .colab-df-convert {\n",
              "      background-color: #3B4455;\n",
              "      fill: #D2E3FC;\n",
              "    }\n",
              "\n",
              "    [theme=dark] .colab-df-convert:hover {\n",
              "      background-color: #434B5C;\n",
              "      box-shadow: 0px 1px 3px 1px rgba(0, 0, 0, 0.15);\n",
              "      filter: drop-shadow(0px 1px 2px rgba(0, 0, 0, 0.3));\n",
              "      fill: #FFFFFF;\n",
              "    }\n",
              "  </style>\n",
              "\n",
              "      <script>\n",
              "        const buttonEl =\n",
              "          document.querySelector('#df-106ddf7d-bcdd-4228-896d-a268d8496453 button.colab-df-convert');\n",
              "        buttonEl.style.display =\n",
              "          google.colab.kernel.accessAllowed ? 'block' : 'none';\n",
              "\n",
              "        async function convertToInteractive(key) {\n",
              "          const element = document.querySelector('#df-106ddf7d-bcdd-4228-896d-a268d8496453');\n",
              "          const dataTable =\n",
              "            await google.colab.kernel.invokeFunction('convertToInteractive',\n",
              "                                                     [key], {});\n",
              "          if (!dataTable) return;\n",
              "\n",
              "          const docLinkHtml = 'Like what you see? Visit the ' +\n",
              "            '<a target=\"_blank\" href=https://colab.research.google.com/notebooks/data_table.ipynb>data table notebook</a>'\n",
              "            + ' to learn more about interactive tables.';\n",
              "          element.innerHTML = '';\n",
              "          dataTable['output_type'] = 'display_data';\n",
              "          await google.colab.output.renderOutput(dataTable, element);\n",
              "          const docLink = document.createElement('div');\n",
              "          docLink.innerHTML = docLinkHtml;\n",
              "          element.appendChild(docLink);\n",
              "        }\n",
              "      </script>\n",
              "    </div>\n",
              "  </div>\n",
              "  "
            ]
          },
          "metadata": {},
          "execution_count": 11
        }
      ]
    },
    {
      "cell_type": "code",
      "source": [
        "# finally convert the question vectors to tensor and fix the data type so it wouldnt error in the fully connected layer\n",
        "train_X_seqs = torch.tensor(train_X_seqs, dtype=torch.long) # convert ndarray to tensor\n",
        "train_X_seqs = train_X_seqs.float()                         # convert dtype to float32 to match weights (so that mat1 and mat2 can multiply)\n",
        "test_X_seqs = torch.tensor(test_X_seqs, dtype=torch.long)\n",
        "test_X_seqs = test_X_seqs.float()"
      ],
      "metadata": {
        "id": "LEt8QLn_NfdA"
      },
      "execution_count": null,
      "outputs": []
    },
    {
      "cell_type": "markdown",
      "source": [
        "# Creating images corresponding to each question based on id"
      ],
      "metadata": {
        "id": "0P7TKXXNLbbz"
      }
    },
    {
      "cell_type": "code",
      "source": [
        "import numpy as np\n",
        "\n",
        "print('\\n--- Creating model input images...')\n",
        "train_X_ims = np.array([train_ims[id] for id in train_image_ids])\n",
        "test_X_ims = np.array([test_ims[id] for id in test_image_ids])"
      ],
      "metadata": {
        "id": "04jLui_kFeUI",
        "colab": {
          "base_uri": "https://localhost:8080/"
        },
        "outputId": "c06f1ca8-8148-4fa2-a7cf-816bd89ae1dd"
      },
      "execution_count": null,
      "outputs": [
        {
          "output_type": "stream",
          "name": "stdout",
          "text": [
            "\n",
            "--- Creating model input images...\n"
          ]
        },
        {
          "output_type": "stream",
          "name": "stderr",
          "text": [
            "<ipython-input-13-1909653ea45c>:4: FutureWarning: The input object of type 'Tensor' is an array-like implementing one of the corresponding protocols (`__array__`, `__array_interface__` or `__array_struct__`); but not a sequence (or 0-D). In the future, this object will be coerced as if it was first converted using `np.array(obj)`. To retain the old behaviour, you have to either modify the type 'Tensor', or assign to an empty array created with `np.empty(correct_shape, dtype=object)`.\n",
            "  train_X_ims = np.array([train_ims[id] for id in train_image_ids])\n",
            "<ipython-input-13-1909653ea45c>:4: VisibleDeprecationWarning: Creating an ndarray from ragged nested sequences (which is a list-or-tuple of lists-or-tuples-or ndarrays with different lengths or shapes) is deprecated. If you meant to do this, you must specify 'dtype=object' when creating the ndarray.\n",
            "  train_X_ims = np.array([train_ims[id] for id in train_image_ids])\n",
            "<ipython-input-13-1909653ea45c>:5: FutureWarning: The input object of type 'Tensor' is an array-like implementing one of the corresponding protocols (`__array__`, `__array_interface__` or `__array_struct__`); but not a sequence (or 0-D). In the future, this object will be coerced as if it was first converted using `np.array(obj)`. To retain the old behaviour, you have to either modify the type 'Tensor', or assign to an empty array created with `np.empty(correct_shape, dtype=object)`.\n",
            "  test_X_ims = np.array([test_ims[id] for id in test_image_ids])\n",
            "<ipython-input-13-1909653ea45c>:5: VisibleDeprecationWarning: Creating an ndarray from ragged nested sequences (which is a list-or-tuple of lists-or-tuples-or ndarrays with different lengths or shapes) is deprecated. If you meant to do this, you must specify 'dtype=object' when creating the ndarray.\n",
            "  test_X_ims = np.array([test_ims[id] for id in test_image_ids])\n"
          ]
        }
      ]
    },
    {
      "cell_type": "code",
      "source": [
        "type(train_X_ims)"
      ],
      "metadata": {
        "colab": {
          "base_uri": "https://localhost:8080/"
        },
        "id": "P2-512N9OVP0",
        "outputId": "d581a958-1d96-41e3-a6e5-c0b006960e8f"
      },
      "execution_count": null,
      "outputs": [
        {
          "output_type": "execute_result",
          "data": {
            "text/plain": [
              "numpy.ndarray"
            ]
          },
          "metadata": {},
          "execution_count": 14
        }
      ]
    },
    {
      "cell_type": "markdown",
      "source": [
        "# Encoding answers as binary vectors\n"
      ],
      "metadata": {
        "id": "_nKb_NyjLscj"
      }
    },
    {
      "cell_type": "code",
      "source": [
        "print('\\n--- Creating model outputs...')\n",
        "\n",
        "train_answer_indices = np.array([all_answers.index(a) for a in train_answers])\n",
        "test_answer_indices = np.array([all_answers.index(a) for a in test_answers])\n",
        "\n",
        "#creating a 2D array filled with 0's\n",
        "train_Y = np.zeros((train_answer_indices.size, train_answer_indices.max()+1), dtype=int)\n",
        "test_Y = np.zeros((test_answer_indices.size, test_answer_indices.max()+1), dtype=int)\n",
        "\n",
        "#replacing 0 with a 1 at the index of the original array\n",
        "train_Y[np.arange(train_answer_indices.size),train_answer_indices] = 1\n",
        "test_Y[np.arange(test_answer_indices.size),test_answer_indices] = 1 \n",
        "\n",
        "# finally convert the label vectors to tensor and fix the data type so it wouldnt error in the fully connected layer\n",
        "train_Y = torch.tensor(train_Y, dtype=torch.long)\n",
        "train_Y = train_Y.float()\n",
        "test_Y = torch.tensor(test_Y, dtype=torch.long)\n",
        "test_Y = test_Y.float()\n",
        "\n",
        "print(f'Example model output: {train_Y[0]}')\n",
        "print(f'data type {type(train_Y)}')"
      ],
      "metadata": {
        "colab": {
          "base_uri": "https://localhost:8080/"
        },
        "id": "jyHoe331Ls8G",
        "outputId": "b020af46-59b5-4cbd-a532-4d5a3b1bcb2a"
      },
      "execution_count": null,
      "outputs": [
        {
          "output_type": "stream",
          "name": "stdout",
          "text": [
            "\n",
            "--- Creating model outputs...\n",
            "Example model output: tensor([0., 0., 0., 0., 0., 0., 0., 1., 0., 0., 0., 0., 0.])\n",
            "data type <class 'torch.Tensor'>\n"
          ]
        }
      ]
    },
    {
      "cell_type": "markdown",
      "source": [
        "# Inputs to model\n",
        "\n",
        "Now we have the following varibles as input to our model\n",
        "-  [`train_X_ims`, `train_X_seqs`, `train_Y`]  - train image-question-answer input\n",
        "-  [`test_X_ims`, `test_X_seqs`, `test_Y`] - test image-question-answer input\n",
        "-  vocab_size - size of vocab for input node count\n",
        "-  im_shape - shape of image for input node count\n",
        "-  num_answers - number of answers for output layer node count"
      ],
      "metadata": {
        "id": "o2vwikMvRK_d"
      }
    },
    {
      "cell_type": "markdown",
      "source": [
        "# Save data to pickle files"
      ],
      "metadata": {
        "id": "HVLDD8BXTOBu"
      }
    },
    {
      "cell_type": "code",
      "source": [
        "# set path\n",
        "from pathlib import Path\n",
        "from google.colab import drive\n",
        "drive.mount('/content/drive')\n",
        "project_path = '/content/drive/MyDrive/FSDL/'\n",
        "project_path = Path(project_path)"
      ],
      "metadata": {
        "id": "NBx-QKGrTTVj",
        "colab": {
          "base_uri": "https://localhost:8080/"
        },
        "outputId": "dd065568-bbfb-4207-9ec0-10144a0dd75f"
      },
      "execution_count": null,
      "outputs": [
        {
          "output_type": "stream",
          "name": "stdout",
          "text": [
            "Mounted at /content/drive\n"
          ]
        }
      ]
    },
    {
      "cell_type": "code",
      "source": [
        "# # save data\n",
        "# import pickle\n",
        "# with open(project_path/'train_img.pickle', 'wb') as handle:\n",
        "#     pickle.dump(train_X_ims, handle)\n",
        "# with open(project_path/'train_qsn.pickle', 'wb') as handle:\n",
        "#     pickle.dump(train_X_seqs, handle)\n",
        "# with open(project_path/'train_ans.pickle', 'wb') as handle:\n",
        "#     pickle.dump(train_Y, handle)\n",
        "# with open(project_path/'test_img.pickle', 'wb') as handle:\n",
        "#     pickle.dump(test_X_ims, handle)\n",
        "# with open(project_path/'test_qsn.pickle', 'wb') as handle:\n",
        "#     pickle.dump(test_X_seqs, handle)\n",
        "# with open(project_path/'test_ans.pickle', 'wb') as handle:\n",
        "#     pickle.dump(test_Y, handle)\n",
        "\n",
        "# # load data\n",
        "# with open(project_path/'train_img.pickle', 'rb') as handle:\n",
        "#     train_X_ims = pickle.load(handle)\n",
        "# with open(project_path/'train_qsn.pickle', 'rb') as handle:\n",
        "#     train_X_seqs = pickle.load(handle)\n",
        "# with open(project_path/'train_ans.pickle', 'rb') as handle:\n",
        "#     train_Y = pickle.load(handle)\n",
        "# with open(project_path/'test_img.pickle', 'rb') as handle:\n",
        "#     test_X_ims = pickle.load(handle)\n",
        "# with open(project_path/'test_qsn.pickle', 'rb') as handle:\n",
        "#     test_X_seqs = pickle.load(handle)\n",
        "# with open(project_path/'test_ans.pickle', 'rb') as handle:\n",
        "#     test_Y = pickle.load(handle)"
      ],
      "metadata": {
        "id": "BQP-aTuZTFUt"
      },
      "execution_count": null,
      "outputs": []
    },
    {
      "cell_type": "code",
      "source": [],
      "metadata": {
        "id": "H64dOaypGUDf"
      },
      "execution_count": null,
      "outputs": []
    },
    {
      "cell_type": "markdown",
      "source": [
        "# Set seed for reproducibility"
      ],
      "metadata": {
        "id": "_0gckaCcMCuw"
      }
    },
    {
      "cell_type": "code",
      "source": [
        "def set_seed(seed: int = 42) -> None:\n",
        "    np.random.seed(seed)\n",
        "    random.seed(seed)\n",
        "    torch.manual_seed(seed)\n",
        "    torch.cuda.manual_seed(seed)\n",
        "    # When running on the CuDNN backend, two further options must be set\n",
        "    torch.backends.cudnn.deterministic = True\n",
        "    torch.backends.cudnn.benchmark = False\n",
        "    # Set a fixed value for the hash seed\n",
        "    os.environ[\"PYTHONHASHSEED\"] = str(seed)\n",
        "    print(f\"Random seed set as {seed}\")\n",
        "\n",
        "set_seed"
      ],
      "metadata": {
        "colab": {
          "base_uri": "https://localhost:8080/"
        },
        "id": "-K5P-rIMMIHc",
        "outputId": "bee467d1-2f53-49ca-de7f-e706f60f0368"
      },
      "execution_count": null,
      "outputs": [
        {
          "output_type": "execute_result",
          "data": {
            "text/plain": [
              "<function __main__.set_seed(seed: int = 42) -> None>"
            ]
          },
          "metadata": {},
          "execution_count": 16
        }
      ]
    },
    {
      "cell_type": "markdown",
      "source": [
        "# Custom Dataset"
      ],
      "metadata": {
        "id": "7jPX2WuTqDQr"
      }
    },
    {
      "cell_type": "code",
      "source": [
        "from torch.utils.data import Dataset\n",
        "\n",
        "class CustomDataset(Dataset):\n",
        "    def __init__(self, img, txt, ans):\n",
        "      self.img = img\n",
        "      self.txt = txt\n",
        "      self.ans = ans\n",
        "\n",
        "    def __len__(self):\n",
        "        return len(self.ans)\n",
        "\n",
        "    def __getitem__(self, idx):\n",
        "      ans = self.ans[idx]\n",
        "      img = self.img[idx]\n",
        "      txt = self.txt[idx]\n",
        "      return img, txt, ans"
      ],
      "metadata": {
        "id": "teWl7f-0EWhk"
      },
      "execution_count": null,
      "outputs": []
    },
    {
      "cell_type": "markdown",
      "source": [
        "# Train and Evaluate loops"
      ],
      "metadata": {
        "id": "2rtV4hyR7gSF"
      }
    },
    {
      "cell_type": "code",
      "source": [
        "def train_loop(model, optimizer, criterion, train_loader):\n",
        "    model.train()\n",
        "    model.to(device)\n",
        "    total_loss, total = 0, 0\n",
        "\n",
        "    for image, text, label in trainloader:\n",
        "        # get the inputs; data is a list of [inputs, labels]\n",
        "        image, text, label =  image.to(device), text.to(device), label.to(device)\n",
        "\n",
        "        # zero the parameter gradients\n",
        "        optimizer.zero_grad()\n",
        "\n",
        "        # forward + backward + optimize\n",
        "        output = model.forward(image, text)\n",
        "        loss = criterion(output, label)\n",
        "        loss.backward()\n",
        "        optimizer.step()\n",
        "\n",
        "        # Record metrics\n",
        "        total_loss += loss.item()\n",
        "        total += len(label)\n",
        "\n",
        "    return total_loss / total\n",
        "\n",
        "\n",
        "def validate_loop(model, criterion, valid_loader):\n",
        "    model.eval()\n",
        "    model.to(device)\n",
        "    total_loss, total = 0, 0\n",
        "\n",
        "    with torch.no_grad():\n",
        "      for image, text, label in testloader:\n",
        "          # get the inputs; data is a list of [inputs, labels]\n",
        "          image, text, label =  image.to(device), text.to(device), label.to(device)\n",
        "\n",
        "          # Forward pass\n",
        "          output = model.forward(image, text)\n",
        "\n",
        "          # Calculate how wrong the model is\n",
        "          loss = criterion(output, label)\n",
        "\n",
        "          # Record metrics\n",
        "          total_loss += loss.item()\n",
        "          total += len(label)\n",
        "\n",
        "    return total_loss / total"
      ],
      "metadata": {
        "id": "d10w4LOc7eJU"
      },
      "execution_count": null,
      "outputs": []
    },
    {
      "cell_type": "markdown",
      "source": [
        "# Model"
      ],
      "metadata": {
        "id": "5GBGT86gZYaC"
      }
    },
    {
      "cell_type": "code",
      "source": [
        "import torch\n",
        "import torch.nn as nn\n",
        "from torch import mul, cat, tanh, relu\n",
        "\n",
        "class VQA(nn.Module):\n",
        "  def __init__(self, vocab_size, num_answers):\n",
        "    super(VQA, self).__init__()\n",
        "\n",
        "    # The CNN\n",
        "    self.conv1 = nn.Conv2d(3, 8, kernel_size=3)   # output shape (batch_size, 8, 62, 62)\n",
        "    self.pool1 = nn.MaxPool2d(kernel_size=2)      # output shape (batch_size, 8, 31, 31)\n",
        "    self.conv2 = nn.Conv2d(8, 16, kernel_size=3)  # output shape (batch_size, 16, 29, 29)\n",
        "    self.pool2 = nn.MaxPool2d(kernel_size=2)      # output shape (batch_size, 16, 14, 14)\n",
        "    self.conv3 = nn.Conv2d(16, 32, kernel_size=3) # output shape (batch_size, 32, 12, 12)\n",
        "    self.pool3 = nn.MaxPool2d(kernel_size=2)      # output shape (batch_size, 32, 6, 6)\n",
        "    self.fc1 = nn.Linear(32*6*6, 32)              # (batch_size, 1152) and (1152, 32) --> (input and weight matrices) --> (batch_size, 32)\n",
        "\n",
        "    # The question network  (32x32 and 64x32)\n",
        "    self.fc2 = nn.Linear(vocab_size, 32)          # (32, 32)\n",
        "    self.fc3 = nn.Linear(32, 32)                  # (32, 32)\n",
        "\n",
        "    # Merge -> output\n",
        "    self.fc4 = nn.Linear(64, 32)                  \n",
        "    self.fc5 = nn.Linear(32, num_answers)\n",
        "\n",
        "  def forward(self, x, q):\n",
        "    # The CNN\n",
        "    x = self.pool1(relu(self.conv1(x)))\n",
        "    x = self.pool2(relu(self.conv2(x)))\n",
        "    x = self.pool3(relu(self.conv3(x)))\n",
        "    x = x.view(-1, 32*6*6)\n",
        "    x = tanh(self.fc1(x))                         # (batch_size, 32)\n",
        "\n",
        "    # The question network\n",
        "    q = tanh(self.fc2(q))                         # (32, 32)\n",
        "    q = tanh(self.fc3(q))                         # (32, 32)\n",
        "\n",
        "    # Merge -> output                              \n",
        "    out = cat((x, q), 1)\n",
        "    out = tanh(self.fc4(out))\n",
        "    out = self.fc5(out)\n",
        "    return out"
      ],
      "metadata": {
        "id": "uNNVc3IFhuhV"
      },
      "execution_count": null,
      "outputs": []
    },
    {
      "cell_type": "code",
      "source": [],
      "metadata": {
        "id": "CjkIhkmhbuu9"
      },
      "execution_count": null,
      "outputs": []
    },
    {
      "cell_type": "markdown",
      "source": [
        "# Hyperparameters, Logging and DataLoaders"
      ],
      "metadata": {
        "id": "dLNCsTsGMY8K"
      }
    },
    {
      "cell_type": "code",
      "source": [
        "!pip install WandB\n",
        "import wandb\n",
        "!wandb login --relogin"
      ],
      "metadata": {
        "colab": {
          "base_uri": "https://localhost:8080/"
        },
        "id": "85z51GeyfC-m",
        "outputId": "77ce49b1-f74a-4868-805b-59a158fb06e6"
      },
      "execution_count": null,
      "outputs": [
        {
          "output_type": "stream",
          "name": "stdout",
          "text": [
            "Looking in indexes: https://pypi.org/simple, https://us-python.pkg.dev/colab-wheels/public/simple/\n",
            "Collecting WandB\n",
            "  Downloading wandb-0.14.2-py3-none-any.whl (2.0 MB)\n",
            "\u001b[2K     \u001b[90m━━━━━━━━━━━━━━━━━━━━━━━━━━━━━━━━━━━━━━━━\u001b[0m \u001b[32m2.0/2.0 MB\u001b[0m \u001b[31m40.9 MB/s\u001b[0m eta \u001b[36m0:00:00\u001b[0m\n",
            "\u001b[?25hRequirement already satisfied: typing-extensions in /usr/local/lib/python3.9/dist-packages (from WandB) (4.5.0)\n",
            "Requirement already satisfied: requests<3,>=2.0.0 in /usr/local/lib/python3.9/dist-packages (from WandB) (2.27.1)\n",
            "Requirement already satisfied: PyYAML in /usr/local/lib/python3.9/dist-packages (from WandB) (6.0)\n",
            "Collecting pathtools\n",
            "  Downloading pathtools-0.1.2.tar.gz (11 kB)\n",
            "  Preparing metadata (setup.py) ... \u001b[?25l\u001b[?25hdone\n",
            "Collecting GitPython!=3.1.29,>=1.0.0\n",
            "  Downloading GitPython-3.1.31-py3-none-any.whl (184 kB)\n",
            "\u001b[2K     \u001b[90m━━━━━━━━━━━━━━━━━━━━━━━━━━━━━━━━━━━━━━\u001b[0m \u001b[32m184.3/184.3 KB\u001b[0m \u001b[31m21.7 MB/s\u001b[0m eta \u001b[36m0:00:00\u001b[0m\n",
            "\u001b[?25hCollecting setproctitle\n",
            "  Downloading setproctitle-1.3.2-cp39-cp39-manylinux_2_5_x86_64.manylinux1_x86_64.manylinux_2_17_x86_64.manylinux2014_x86_64.whl (30 kB)\n",
            "Requirement already satisfied: Click!=8.0.0,>=7.0 in /usr/local/lib/python3.9/dist-packages (from WandB) (8.1.3)\n",
            "Requirement already satisfied: appdirs>=1.4.3 in /usr/local/lib/python3.9/dist-packages (from WandB) (1.4.4)\n",
            "Requirement already satisfied: protobuf!=4.21.0,<5,>=3.15.0 in /usr/local/lib/python3.9/dist-packages (from WandB) (3.20.3)\n",
            "Requirement already satisfied: setuptools in /usr/local/lib/python3.9/dist-packages (from WandB) (67.6.1)\n",
            "Collecting sentry-sdk>=1.0.0\n",
            "  Downloading sentry_sdk-1.19.1-py2.py3-none-any.whl (199 kB)\n",
            "\u001b[2K     \u001b[90m━━━━━━━━━━━━━━━━━━━━━━━━━━━━━━━━━━━━━━\u001b[0m \u001b[32m199.2/199.2 KB\u001b[0m \u001b[31m20.8 MB/s\u001b[0m eta \u001b[36m0:00:00\u001b[0m\n",
            "\u001b[?25hCollecting docker-pycreds>=0.4.0\n",
            "  Downloading docker_pycreds-0.4.0-py2.py3-none-any.whl (9.0 kB)\n",
            "Requirement already satisfied: psutil>=5.0.0 in /usr/local/lib/python3.9/dist-packages (from WandB) (5.9.4)\n",
            "Requirement already satisfied: six>=1.4.0 in /usr/local/lib/python3.9/dist-packages (from docker-pycreds>=0.4.0->WandB) (1.16.0)\n",
            "Collecting gitdb<5,>=4.0.1\n",
            "  Downloading gitdb-4.0.10-py3-none-any.whl (62 kB)\n",
            "\u001b[2K     \u001b[90m━━━━━━━━━━━━━━━━━━━━━━━━━━━━━━━━━━━━━━━━\u001b[0m \u001b[32m62.7/62.7 KB\u001b[0m \u001b[31m7.7 MB/s\u001b[0m eta \u001b[36m0:00:00\u001b[0m\n",
            "\u001b[?25hRequirement already satisfied: charset-normalizer~=2.0.0 in /usr/local/lib/python3.9/dist-packages (from requests<3,>=2.0.0->WandB) (2.0.12)\n",
            "Requirement already satisfied: certifi>=2017.4.17 in /usr/local/lib/python3.9/dist-packages (from requests<3,>=2.0.0->WandB) (2022.12.7)\n",
            "Requirement already satisfied: urllib3<1.27,>=1.21.1 in /usr/local/lib/python3.9/dist-packages (from requests<3,>=2.0.0->WandB) (1.26.15)\n",
            "Requirement already satisfied: idna<4,>=2.5 in /usr/local/lib/python3.9/dist-packages (from requests<3,>=2.0.0->WandB) (3.4)\n",
            "Collecting smmap<6,>=3.0.1\n",
            "  Downloading smmap-5.0.0-py3-none-any.whl (24 kB)\n",
            "Building wheels for collected packages: pathtools\n",
            "  Building wheel for pathtools (setup.py) ... \u001b[?25l\u001b[?25hdone\n",
            "  Created wheel for pathtools: filename=pathtools-0.1.2-py3-none-any.whl size=8807 sha256=0b9da7c06ad21504e82daacb8f100d95972fc71bbeafda743b8f92d999d35b64\n",
            "  Stored in directory: /root/.cache/pip/wheels/b7/0a/67/ada2a22079218c75a88361c0782855cc72aebc4d18d0289d05\n",
            "Successfully built pathtools\n",
            "Installing collected packages: pathtools, smmap, setproctitle, sentry-sdk, docker-pycreds, gitdb, GitPython, WandB\n",
            "Successfully installed GitPython-3.1.31 WandB-0.14.2 docker-pycreds-0.4.0 gitdb-4.0.10 pathtools-0.1.2 sentry-sdk-1.19.1 setproctitle-1.3.2 smmap-5.0.0\n",
            "\u001b[34m\u001b[1mwandb\u001b[0m: Logging into wandb.ai. (Learn how to deploy a W&B server locally: https://wandb.me/wandb-server)\n",
            "\u001b[34m\u001b[1mwandb\u001b[0m: You can find your API key in your browser here: https://wandb.ai/authorize\n",
            "\u001b[34m\u001b[1mwandb\u001b[0m: Paste an API key from your profile and hit enter, or press ctrl+c to quit: \n",
            "\u001b[34m\u001b[1mwandb\u001b[0m: Appending key for api.wandb.ai to your netrc file: /root/.netrc\n"
          ]
        }
      ]
    },
    {
      "cell_type": "code",
      "source": [
        "class EarlyStopper:\n",
        "    def __init__(self, patience=1, min_delta=0):\n",
        "        self.patience = patience\n",
        "        self.min_delta = min_delta\n",
        "        self.counter = 0\n",
        "        self.min_validation_loss = np.inf\n",
        "\n",
        "    def early_stop(self, validation_loss):\n",
        "        if validation_loss < self.min_validation_loss:\n",
        "            self.min_validation_loss = validation_loss\n",
        "            self.counter = 0\n",
        "        elif validation_loss > (self.min_validation_loss + self.min_delta):\n",
        "            self.counter += 1\n",
        "            if self.counter >= self.patience:\n",
        "                return True\n",
        "        return False\n",
        "\n",
        "def checkpoint(model, filename):\n",
        "    torch.save(model.state_dict(), filename)"
      ],
      "metadata": {
        "id": "qZ3QSDE5bfGt"
      },
      "execution_count": null,
      "outputs": []
    },
    {
      "cell_type": "code",
      "source": [
        "from torch.utils.data import DataLoader\n",
        "from tqdm.notebook import tqdm\n",
        "# WandB – Initialize a new run\n",
        "wandb.init(project='easy-vqa-pytorch', name='CNN-BoW-tanh-40Epoch', notes='Fourth run')\n",
        "\n",
        "# WandB – Config is a variable that holds and saves hyperparameters and inputs\n",
        "config = wandb.config          # Initialize config\n",
        "config.batch_size = 32          # input batch size for training (default: 64)\n",
        "config.test_batch_size = 32    # input batch size for testing (default: 1000)\n",
        "config.epochs = 40            # number of epochs to train (default: 10)\n",
        "config.lr = 0.005               # learning rate (default: 0.01)\n",
        "config.momentum = 0.1          # SGD momentum (default: 0.5) \n",
        "config.no_cuda = False         # disables CUDA training\n",
        "config.log_interval = 10     # how many batches to wait before logging training status\n",
        "\n",
        "\n",
        "if torch.cuda.is_available(): device = torch.device(\"cuda:0\")\n",
        "kwargs = {'num_workers': 1, 'pin_memory': True} if torch.cuda.is_available() else {}\n",
        "\n",
        "\n",
        "# Now we load our training and test datasets initialize the train, validation, and test data loaders\n",
        "\n",
        "train_dataset = CustomDataset(train_X_ims, train_X_seqs, train_Y)\n",
        "test_dataset = CustomDataset(test_X_ims, test_X_seqs, test_Y)\n",
        "trainloader = DataLoader(train_dataset, shuffle=True, batch_size=config.batch_size)\n",
        "testloader = DataLoader(test_dataset, batch_size=config.test_batch_size)\n",
        "\n",
        "\n",
        "# Initialize our model, recursively go over all modules and convert their parameters and buffers to CUDA tensors (if device is set to cuda)\n",
        "model = VQA(vocab_size = vocab_size, num_answers = num_answers).to(device)\n",
        "criterion = nn.CrossEntropyLoss()\n",
        "optimizer = torch.optim.SGD(model.parameters(), lr=config.lr,\n",
        "                      momentum=config.momentum)\n",
        "\n",
        "# WandB – wandb.watch() automatically fetches all layer dimensions, gradients, model parameters and logs them automatically to your dashboard.\n",
        "# Using log=\"all\" log histograms of parameter values in addition to gradients\n",
        "wandb.watch(model, log=\"all\")\n",
        "early_stopper = EarlyStopper(patience=2, min_delta=0.03)\n",
        "train_losses, valid_losses = [], []\n",
        "\n",
        "for epoch in range(config.epochs):\n",
        "    train_loss = train_loop(model, optimizer, criterion, trainloader)\n",
        "    valid_loss = validate_loop(model, criterion, testloader)\n",
        "    \n",
        "    tqdm.write(\n",
        "        f'epoch #{epoch + 1:3d}\\ttrain_loss: {train_loss:.2e}\\tvalid_loss: {valid_loss:.2e}\\n',\n",
        "    )\n",
        "    \n",
        "    train_losses.append(train_loss)\n",
        "    valid_losses.append(valid_loss)\n",
        "\n",
        "    wandb.log({\n",
        "      \"Epoch\": epoch,\n",
        "      \"Training Loss\": train_loss,\n",
        "      \"Validation Loss\": valid_loss})\n",
        "\n",
        "    if early_stopper.early_stop(valid_loss):             \n",
        "      break"
      ],
      "metadata": {
        "colab": {
          "base_uri": "https://localhost:8080/",
          "height": 1000
        },
        "id": "5o5s7DpPfTW_",
        "outputId": "03271850-831b-4936-bfff-e8ed3fe9b130"
      },
      "execution_count": null,
      "outputs": [
        {
          "metadata": {
            "tags": null
          },
          "name": "stderr",
          "output_type": "stream",
          "text": [
            "\u001b[34m\u001b[1mwandb\u001b[0m: Currently logged in as: \u001b[33mnimblefox\u001b[0m. Use \u001b[1m`wandb login --relogin`\u001b[0m to force relogin\n"
          ]
        },
        {
          "data": {
            "text/html": [
              "Tracking run with wandb version 0.14.2"
            ],
            "text/plain": [
              "<IPython.core.display.HTML object>"
            ]
          },
          "metadata": {},
          "output_type": "display_data"
        },
        {
          "data": {
            "text/html": [
              "Run data is saved locally in <code>/content/wandb/run-20230409_074513-0839ynqj</code>"
            ],
            "text/plain": [
              "<IPython.core.display.HTML object>"
            ]
          },
          "metadata": {},
          "output_type": "display_data"
        },
        {
          "data": {
            "text/html": [
              "Syncing run <strong><a href='https://wandb.ai/nimblefox/easy-vqa-pytorch/runs/0839ynqj' target=\"_blank\">CNN-BoW-tanh-40Epoch</a></strong> to <a href='https://wandb.ai/nimblefox/easy-vqa-pytorch' target=\"_blank\">Weights & Biases</a> (<a href='https://wandb.me/run' target=\"_blank\">docs</a>)<br/>"
            ],
            "text/plain": [
              "<IPython.core.display.HTML object>"
            ]
          },
          "metadata": {},
          "output_type": "display_data"
        },
        {
          "data": {
            "text/html": [
              " View project at <a href='https://wandb.ai/nimblefox/easy-vqa-pytorch' target=\"_blank\">https://wandb.ai/nimblefox/easy-vqa-pytorch</a>"
            ],
            "text/plain": [
              "<IPython.core.display.HTML object>"
            ]
          },
          "metadata": {},
          "output_type": "display_data"
        },
        {
          "data": {
            "text/html": [
              " View run at <a href='https://wandb.ai/nimblefox/easy-vqa-pytorch/runs/0839ynqj' target=\"_blank\">https://wandb.ai/nimblefox/easy-vqa-pytorch/runs/0839ynqj</a>"
            ],
            "text/plain": [
              "<IPython.core.display.HTML object>"
            ]
          },
          "metadata": {},
          "output_type": "display_data"
        },
        {
          "metadata": {
            "tags": null
          },
          "name": "stdout",
          "output_type": "stream",
          "text": [
            "epoch #  1\ttrain_loss: 5.38e-02\tvalid_loss: 4.72e-02\n",
            "\n",
            "epoch #  2\ttrain_loss: 3.87e-02\tvalid_loss: 3.46e-02\n",
            "\n",
            "epoch #  3\ttrain_loss: 3.25e-02\tvalid_loss: 3.03e-02\n",
            "\n",
            "epoch #  4\ttrain_loss: 2.97e-02\tvalid_loss: 2.89e-02\n",
            "\n",
            "epoch #  5\ttrain_loss: 2.85e-02\tvalid_loss: 2.77e-02\n",
            "\n",
            "epoch #  6\ttrain_loss: 2.72e-02\tvalid_loss: 2.63e-02\n",
            "\n",
            "epoch #  7\ttrain_loss: 2.61e-02\tvalid_loss: 2.53e-02\n",
            "\n",
            "epoch #  8\ttrain_loss: 2.52e-02\tvalid_loss: 2.47e-02\n",
            "\n",
            "epoch #  9\ttrain_loss: 2.47e-02\tvalid_loss: 2.43e-02\n",
            "\n",
            "epoch # 10\ttrain_loss: 2.45e-02\tvalid_loss: 2.42e-02\n",
            "\n",
            "epoch # 11\ttrain_loss: 2.43e-02\tvalid_loss: 2.39e-02\n",
            "\n",
            "epoch # 12\ttrain_loss: 2.42e-02\tvalid_loss: 2.38e-02\n",
            "\n",
            "epoch # 13\ttrain_loss: 2.41e-02\tvalid_loss: 2.38e-02\n",
            "\n",
            "epoch # 14\ttrain_loss: 2.40e-02\tvalid_loss: 2.37e-02\n",
            "\n",
            "epoch # 15\ttrain_loss: 2.39e-02\tvalid_loss: 2.37e-02\n",
            "\n",
            "epoch # 16\ttrain_loss: 2.39e-02\tvalid_loss: 2.36e-02\n",
            "\n",
            "epoch # 17\ttrain_loss: 2.38e-02\tvalid_loss: 2.36e-02\n",
            "\n",
            "epoch # 18\ttrain_loss: 2.38e-02\tvalid_loss: 2.36e-02\n",
            "\n",
            "epoch # 19\ttrain_loss: 2.37e-02\tvalid_loss: 2.37e-02\n",
            "\n",
            "epoch # 20\ttrain_loss: 2.37e-02\tvalid_loss: 2.35e-02\n",
            "\n",
            "epoch # 21\ttrain_loss: 2.36e-02\tvalid_loss: 2.34e-02\n",
            "\n",
            "epoch # 22\ttrain_loss: 2.36e-02\tvalid_loss: 2.34e-02\n",
            "\n",
            "epoch # 23\ttrain_loss: 2.36e-02\tvalid_loss: 2.33e-02\n",
            "\n",
            "epoch # 24\ttrain_loss: 2.36e-02\tvalid_loss: 2.34e-02\n",
            "\n",
            "epoch # 25\ttrain_loss: 2.36e-02\tvalid_loss: 2.33e-02\n",
            "\n",
            "epoch # 26\ttrain_loss: 2.35e-02\tvalid_loss: 2.33e-02\n",
            "\n",
            "epoch # 27\ttrain_loss: 2.35e-02\tvalid_loss: 2.33e-02\n",
            "\n",
            "epoch # 28\ttrain_loss: 2.35e-02\tvalid_loss: 2.33e-02\n",
            "\n",
            "epoch # 29\ttrain_loss: 2.35e-02\tvalid_loss: 2.35e-02\n",
            "\n",
            "epoch # 30\ttrain_loss: 2.35e-02\tvalid_loss: 2.33e-02\n",
            "\n",
            "epoch # 31\ttrain_loss: 2.35e-02\tvalid_loss: 2.33e-02\n",
            "\n",
            "epoch # 32\ttrain_loss: 2.35e-02\tvalid_loss: 2.33e-02\n",
            "\n",
            "epoch # 33\ttrain_loss: 2.35e-02\tvalid_loss: 2.33e-02\n",
            "\n",
            "epoch # 34\ttrain_loss: 2.35e-02\tvalid_loss: 2.33e-02\n",
            "\n",
            "epoch # 35\ttrain_loss: 2.35e-02\tvalid_loss: 2.33e-02\n",
            "\n",
            "epoch # 36\ttrain_loss: 2.35e-02\tvalid_loss: 2.33e-02\n",
            "\n",
            "epoch # 37\ttrain_loss: 2.35e-02\tvalid_loss: 2.33e-02\n",
            "\n",
            "epoch # 38\ttrain_loss: 2.35e-02\tvalid_loss: 2.33e-02\n",
            "\n",
            "epoch # 39\ttrain_loss: 2.35e-02\tvalid_loss: 2.33e-02\n",
            "\n",
            "epoch # 40\ttrain_loss: 2.35e-02\tvalid_loss: 2.32e-02\n",
            "\n"
          ]
        }
      ]
    },
    {
      "cell_type": "markdown",
      "source": [
        "# Training"
      ],
      "metadata": {
        "id": "M09uk-n3QZIn"
      }
    },
    {
      "cell_type": "code",
      "source": [
        "import matplotlib.pyplot as plt\n",
        "%matplotlib inline\n",
        "%config InlineBackend.figure_formats = ['svg']\n",
        "plt.style.use('ggplot')\n",
        "\n",
        "\n",
        "epoch_ticks = range(1, epoch + 2)\n",
        "plt.plot(epoch_ticks, train_losses)\n",
        "plt.plot(epoch_ticks, valid_losses)\n",
        "plt.legend(['Train Loss', 'Valid Loss'])\n",
        "plt.title('Losses') \n",
        "plt.xlabel('Epoch #')\n",
        "plt.ylabel('Loss')\n",
        "plt.xticks(epoch_ticks)\n",
        "plt.show()"
      ],
      "metadata": {
        "id": "rs4Z80LtPkRc",
        "colab": {
          "base_uri": "https://localhost:8080/",
          "height": 461
        },
        "outputId": "8ae811a4-ce72-4ef9-fb98-2605d8e5ee0a"
      },
      "execution_count": null,
      "outputs": [
        {
          "output_type": "display_data",
          "data": {
            "text/plain": [
              "<Figure size 640x480 with 1 Axes>"
            ],
            "image/svg+xml": "<?xml version=\"1.0\" encoding=\"utf-8\" standalone=\"no\"?>\n<!DOCTYPE svg PUBLIC \"-//W3C//DTD SVG 1.1//EN\"\n  \"http://www.w3.org/Graphics/SVG/1.1/DTD/svg11.dtd\">\n<svg xmlns:xlink=\"http://www.w3.org/1999/xlink\" width=\"422.761875pt\" height=\"329.745625pt\" viewBox=\"0 0 422.761875 329.745625\" xmlns=\"http://www.w3.org/2000/svg\" version=\"1.1\">\n <metadata>\n  <rdf:RDF xmlns:dc=\"http://purl.org/dc/elements/1.1/\" xmlns:cc=\"http://creativecommons.org/ns#\" xmlns:rdf=\"http://www.w3.org/1999/02/22-rdf-syntax-ns#\">\n   <cc:Work>\n    <dc:type rdf:resource=\"http://purl.org/dc/dcmitype/StillImage\"/>\n    <dc:date>2023-04-09T07:49:00.193729</dc:date>\n    <dc:format>image/svg+xml</dc:format>\n    <dc:creator>\n     <cc:Agent>\n      <dc:title>Matplotlib v3.7.1, https://matplotlib.org/</dc:title>\n     </cc:Agent>\n    </dc:creator>\n   </cc:Work>\n  </rdf:RDF>\n </metadata>\n <defs>\n  <style type=\"text/css\">*{stroke-linejoin: round; stroke-linecap: butt}</style>\n </defs>\n <g id=\"figure_1\">\n  <g id=\"patch_1\">\n   <path d=\"M 0 329.745625 \nL 422.761875 329.745625 \nL 422.761875 0 \nL 0 0 \nz\n\" style=\"fill: #ffffff\"/>\n  </g>\n  <g id=\"axes_1\">\n   <g id=\"patch_2\">\n    <path d=\"M 58.441875 290.25375 \nL 415.561875 290.25375 \nL 415.561875 24.14175 \nL 58.441875 24.14175 \nz\n\" style=\"fill: #e5e5e5\"/>\n   </g>\n   <g id=\"matplotlib.axis_1\">\n    <g id=\"xtick_1\">\n     <g id=\"line2d_1\">\n      <path d=\"M 74.674602 290.25375 \nL 74.674602 24.14175 \n\" clip-path=\"url(#pb45944c96e)\" style=\"fill: none; stroke: #ffffff; stroke-width: 0.8; stroke-linecap: square\"/>\n     </g>\n     <g id=\"line2d_2\">\n      <defs>\n       <path id=\"m2079918dc2\" d=\"M 0 0 \nL 0 3.5 \n\" style=\"stroke: #555555; stroke-width: 0.8\"/>\n      </defs>\n      <g>\n       <use xlink:href=\"#m2079918dc2\" x=\"74.674602\" y=\"290.25375\" style=\"fill: #555555; stroke: #555555; stroke-width: 0.8\"/>\n      </g>\n     </g>\n     <g id=\"text_1\">\n      <!-- 1 -->\n      <g style=\"fill: #555555\" transform=\"translate(71.493352 304.852187) scale(0.1 -0.1)\">\n       <defs>\n        <path id=\"DejaVuSans-31\" d=\"M 794 531 \nL 1825 531 \nL 1825 4091 \nL 703 3866 \nL 703 4441 \nL 1819 4666 \nL 2450 4666 \nL 2450 531 \nL 3481 531 \nL 3481 0 \nL 794 0 \nL 794 531 \nz\n\" transform=\"scale(0.015625)\"/>\n       </defs>\n       <use xlink:href=\"#DejaVuSans-31\"/>\n      </g>\n     </g>\n    </g>\n    <g id=\"xtick_2\">\n     <g id=\"line2d_3\">\n      <path d=\"M 82.999078 290.25375 \nL 82.999078 24.14175 \n\" clip-path=\"url(#pb45944c96e)\" style=\"fill: none; stroke: #ffffff; stroke-width: 0.8; stroke-linecap: square\"/>\n     </g>\n     <g id=\"line2d_4\">\n      <g>\n       <use xlink:href=\"#m2079918dc2\" x=\"82.999078\" y=\"290.25375\" style=\"fill: #555555; stroke: #555555; stroke-width: 0.8\"/>\n      </g>\n     </g>\n     <g id=\"text_2\">\n      <!-- 2 -->\n      <g style=\"fill: #555555\" transform=\"translate(79.817828 304.852187) scale(0.1 -0.1)\">\n       <defs>\n        <path id=\"DejaVuSans-32\" d=\"M 1228 531 \nL 3431 531 \nL 3431 0 \nL 469 0 \nL 469 531 \nQ 828 903 1448 1529 \nQ 2069 2156 2228 2338 \nQ 2531 2678 2651 2914 \nQ 2772 3150 2772 3378 \nQ 2772 3750 2511 3984 \nQ 2250 4219 1831 4219 \nQ 1534 4219 1204 4116 \nQ 875 4013 500 3803 \nL 500 4441 \nQ 881 4594 1212 4672 \nQ 1544 4750 1819 4750 \nQ 2544 4750 2975 4387 \nQ 3406 4025 3406 3419 \nQ 3406 3131 3298 2873 \nQ 3191 2616 2906 2266 \nQ 2828 2175 2409 1742 \nQ 1991 1309 1228 531 \nz\n\" transform=\"scale(0.015625)\"/>\n       </defs>\n       <use xlink:href=\"#DejaVuSans-32\"/>\n      </g>\n     </g>\n    </g>\n    <g id=\"xtick_3\">\n     <g id=\"line2d_5\">\n      <path d=\"M 91.323553 290.25375 \nL 91.323553 24.14175 \n\" clip-path=\"url(#pb45944c96e)\" style=\"fill: none; stroke: #ffffff; stroke-width: 0.8; stroke-linecap: square\"/>\n     </g>\n     <g id=\"line2d_6\">\n      <g>\n       <use xlink:href=\"#m2079918dc2\" x=\"91.323553\" y=\"290.25375\" style=\"fill: #555555; stroke: #555555; stroke-width: 0.8\"/>\n      </g>\n     </g>\n     <g id=\"text_3\">\n      <!-- 3 -->\n      <g style=\"fill: #555555\" transform=\"translate(88.142303 304.852187) scale(0.1 -0.1)\">\n       <defs>\n        <path id=\"DejaVuSans-33\" d=\"M 2597 2516 \nQ 3050 2419 3304 2112 \nQ 3559 1806 3559 1356 \nQ 3559 666 3084 287 \nQ 2609 -91 1734 -91 \nQ 1441 -91 1130 -33 \nQ 819 25 488 141 \nL 488 750 \nQ 750 597 1062 519 \nQ 1375 441 1716 441 \nQ 2309 441 2620 675 \nQ 2931 909 2931 1356 \nQ 2931 1769 2642 2001 \nQ 2353 2234 1838 2234 \nL 1294 2234 \nL 1294 2753 \nL 1863 2753 \nQ 2328 2753 2575 2939 \nQ 2822 3125 2822 3475 \nQ 2822 3834 2567 4026 \nQ 2313 4219 1838 4219 \nQ 1578 4219 1281 4162 \nQ 984 4106 628 3988 \nL 628 4550 \nQ 988 4650 1302 4700 \nQ 1616 4750 1894 4750 \nQ 2613 4750 3031 4423 \nQ 3450 4097 3450 3541 \nQ 3450 3153 3228 2886 \nQ 3006 2619 2597 2516 \nz\n\" transform=\"scale(0.015625)\"/>\n       </defs>\n       <use xlink:href=\"#DejaVuSans-33\"/>\n      </g>\n     </g>\n    </g>\n    <g id=\"xtick_4\">\n     <g id=\"line2d_7\">\n      <path d=\"M 99.648029 290.25375 \nL 99.648029 24.14175 \n\" clip-path=\"url(#pb45944c96e)\" style=\"fill: none; stroke: #ffffff; stroke-width: 0.8; stroke-linecap: square\"/>\n     </g>\n     <g id=\"line2d_8\">\n      <g>\n       <use xlink:href=\"#m2079918dc2\" x=\"99.648029\" y=\"290.25375\" style=\"fill: #555555; stroke: #555555; stroke-width: 0.8\"/>\n      </g>\n     </g>\n     <g id=\"text_4\">\n      <!-- 4 -->\n      <g style=\"fill: #555555\" transform=\"translate(96.466779 304.852187) scale(0.1 -0.1)\">\n       <defs>\n        <path id=\"DejaVuSans-34\" d=\"M 2419 4116 \nL 825 1625 \nL 2419 1625 \nL 2419 4116 \nz\nM 2253 4666 \nL 3047 4666 \nL 3047 1625 \nL 3713 1625 \nL 3713 1100 \nL 3047 1100 \nL 3047 0 \nL 2419 0 \nL 2419 1100 \nL 313 1100 \nL 313 1709 \nL 2253 4666 \nz\n\" transform=\"scale(0.015625)\"/>\n       </defs>\n       <use xlink:href=\"#DejaVuSans-34\"/>\n      </g>\n     </g>\n    </g>\n    <g id=\"xtick_5\">\n     <g id=\"line2d_9\">\n      <path d=\"M 107.972504 290.25375 \nL 107.972504 24.14175 \n\" clip-path=\"url(#pb45944c96e)\" style=\"fill: none; stroke: #ffffff; stroke-width: 0.8; stroke-linecap: square\"/>\n     </g>\n     <g id=\"line2d_10\">\n      <g>\n       <use xlink:href=\"#m2079918dc2\" x=\"107.972504\" y=\"290.25375\" style=\"fill: #555555; stroke: #555555; stroke-width: 0.8\"/>\n      </g>\n     </g>\n     <g id=\"text_5\">\n      <!-- 5 -->\n      <g style=\"fill: #555555\" transform=\"translate(104.791254 304.852187) scale(0.1 -0.1)\">\n       <defs>\n        <path id=\"DejaVuSans-35\" d=\"M 691 4666 \nL 3169 4666 \nL 3169 4134 \nL 1269 4134 \nL 1269 2991 \nQ 1406 3038 1543 3061 \nQ 1681 3084 1819 3084 \nQ 2600 3084 3056 2656 \nQ 3513 2228 3513 1497 \nQ 3513 744 3044 326 \nQ 2575 -91 1722 -91 \nQ 1428 -91 1123 -41 \nQ 819 9 494 109 \nL 494 744 \nQ 775 591 1075 516 \nQ 1375 441 1709 441 \nQ 2250 441 2565 725 \nQ 2881 1009 2881 1497 \nQ 2881 1984 2565 2268 \nQ 2250 2553 1709 2553 \nQ 1456 2553 1204 2497 \nQ 953 2441 691 2322 \nL 691 4666 \nz\n\" transform=\"scale(0.015625)\"/>\n       </defs>\n       <use xlink:href=\"#DejaVuSans-35\"/>\n      </g>\n     </g>\n    </g>\n    <g id=\"xtick_6\">\n     <g id=\"line2d_11\">\n      <path d=\"M 116.29698 290.25375 \nL 116.29698 24.14175 \n\" clip-path=\"url(#pb45944c96e)\" style=\"fill: none; stroke: #ffffff; stroke-width: 0.8; stroke-linecap: square\"/>\n     </g>\n     <g id=\"line2d_12\">\n      <g>\n       <use xlink:href=\"#m2079918dc2\" x=\"116.29698\" y=\"290.25375\" style=\"fill: #555555; stroke: #555555; stroke-width: 0.8\"/>\n      </g>\n     </g>\n     <g id=\"text_6\">\n      <!-- 6 -->\n      <g style=\"fill: #555555\" transform=\"translate(113.11573 304.852187) scale(0.1 -0.1)\">\n       <defs>\n        <path id=\"DejaVuSans-36\" d=\"M 2113 2584 \nQ 1688 2584 1439 2293 \nQ 1191 2003 1191 1497 \nQ 1191 994 1439 701 \nQ 1688 409 2113 409 \nQ 2538 409 2786 701 \nQ 3034 994 3034 1497 \nQ 3034 2003 2786 2293 \nQ 2538 2584 2113 2584 \nz\nM 3366 4563 \nL 3366 3988 \nQ 3128 4100 2886 4159 \nQ 2644 4219 2406 4219 \nQ 1781 4219 1451 3797 \nQ 1122 3375 1075 2522 \nQ 1259 2794 1537 2939 \nQ 1816 3084 2150 3084 \nQ 2853 3084 3261 2657 \nQ 3669 2231 3669 1497 \nQ 3669 778 3244 343 \nQ 2819 -91 2113 -91 \nQ 1303 -91 875 529 \nQ 447 1150 447 2328 \nQ 447 3434 972 4092 \nQ 1497 4750 2381 4750 \nQ 2619 4750 2861 4703 \nQ 3103 4656 3366 4563 \nz\n\" transform=\"scale(0.015625)\"/>\n       </defs>\n       <use xlink:href=\"#DejaVuSans-36\"/>\n      </g>\n     </g>\n    </g>\n    <g id=\"xtick_7\">\n     <g id=\"line2d_13\">\n      <path d=\"M 124.621455 290.25375 \nL 124.621455 24.14175 \n\" clip-path=\"url(#pb45944c96e)\" style=\"fill: none; stroke: #ffffff; stroke-width: 0.8; stroke-linecap: square\"/>\n     </g>\n     <g id=\"line2d_14\">\n      <g>\n       <use xlink:href=\"#m2079918dc2\" x=\"124.621455\" y=\"290.25375\" style=\"fill: #555555; stroke: #555555; stroke-width: 0.8\"/>\n      </g>\n     </g>\n     <g id=\"text_7\">\n      <!-- 7 -->\n      <g style=\"fill: #555555\" transform=\"translate(121.440205 304.852187) scale(0.1 -0.1)\">\n       <defs>\n        <path id=\"DejaVuSans-37\" d=\"M 525 4666 \nL 3525 4666 \nL 3525 4397 \nL 1831 0 \nL 1172 0 \nL 2766 4134 \nL 525 4134 \nL 525 4666 \nz\n\" transform=\"scale(0.015625)\"/>\n       </defs>\n       <use xlink:href=\"#DejaVuSans-37\"/>\n      </g>\n     </g>\n    </g>\n    <g id=\"xtick_8\">\n     <g id=\"line2d_15\">\n      <path d=\"M 132.945931 290.25375 \nL 132.945931 24.14175 \n\" clip-path=\"url(#pb45944c96e)\" style=\"fill: none; stroke: #ffffff; stroke-width: 0.8; stroke-linecap: square\"/>\n     </g>\n     <g id=\"line2d_16\">\n      <g>\n       <use xlink:href=\"#m2079918dc2\" x=\"132.945931\" y=\"290.25375\" style=\"fill: #555555; stroke: #555555; stroke-width: 0.8\"/>\n      </g>\n     </g>\n     <g id=\"text_8\">\n      <!-- 8 -->\n      <g style=\"fill: #555555\" transform=\"translate(129.764681 304.852187) scale(0.1 -0.1)\">\n       <defs>\n        <path id=\"DejaVuSans-38\" d=\"M 2034 2216 \nQ 1584 2216 1326 1975 \nQ 1069 1734 1069 1313 \nQ 1069 891 1326 650 \nQ 1584 409 2034 409 \nQ 2484 409 2743 651 \nQ 3003 894 3003 1313 \nQ 3003 1734 2745 1975 \nQ 2488 2216 2034 2216 \nz\nM 1403 2484 \nQ 997 2584 770 2862 \nQ 544 3141 544 3541 \nQ 544 4100 942 4425 \nQ 1341 4750 2034 4750 \nQ 2731 4750 3128 4425 \nQ 3525 4100 3525 3541 \nQ 3525 3141 3298 2862 \nQ 3072 2584 2669 2484 \nQ 3125 2378 3379 2068 \nQ 3634 1759 3634 1313 \nQ 3634 634 3220 271 \nQ 2806 -91 2034 -91 \nQ 1263 -91 848 271 \nQ 434 634 434 1313 \nQ 434 1759 690 2068 \nQ 947 2378 1403 2484 \nz\nM 1172 3481 \nQ 1172 3119 1398 2916 \nQ 1625 2713 2034 2713 \nQ 2441 2713 2670 2916 \nQ 2900 3119 2900 3481 \nQ 2900 3844 2670 4047 \nQ 2441 4250 2034 4250 \nQ 1625 4250 1398 4047 \nQ 1172 3844 1172 3481 \nz\n\" transform=\"scale(0.015625)\"/>\n       </defs>\n       <use xlink:href=\"#DejaVuSans-38\"/>\n      </g>\n     </g>\n    </g>\n    <g id=\"xtick_9\">\n     <g id=\"line2d_17\">\n      <path d=\"M 141.270406 290.25375 \nL 141.270406 24.14175 \n\" clip-path=\"url(#pb45944c96e)\" style=\"fill: none; stroke: #ffffff; stroke-width: 0.8; stroke-linecap: square\"/>\n     </g>\n     <g id=\"line2d_18\">\n      <g>\n       <use xlink:href=\"#m2079918dc2\" x=\"141.270406\" y=\"290.25375\" style=\"fill: #555555; stroke: #555555; stroke-width: 0.8\"/>\n      </g>\n     </g>\n     <g id=\"text_9\">\n      <!-- 9 -->\n      <g style=\"fill: #555555\" transform=\"translate(138.089156 304.852187) scale(0.1 -0.1)\">\n       <defs>\n        <path id=\"DejaVuSans-39\" d=\"M 703 97 \nL 703 672 \nQ 941 559 1184 500 \nQ 1428 441 1663 441 \nQ 2288 441 2617 861 \nQ 2947 1281 2994 2138 \nQ 2813 1869 2534 1725 \nQ 2256 1581 1919 1581 \nQ 1219 1581 811 2004 \nQ 403 2428 403 3163 \nQ 403 3881 828 4315 \nQ 1253 4750 1959 4750 \nQ 2769 4750 3195 4129 \nQ 3622 3509 3622 2328 \nQ 3622 1225 3098 567 \nQ 2575 -91 1691 -91 \nQ 1453 -91 1209 -44 \nQ 966 3 703 97 \nz\nM 1959 2075 \nQ 2384 2075 2632 2365 \nQ 2881 2656 2881 3163 \nQ 2881 3666 2632 3958 \nQ 2384 4250 1959 4250 \nQ 1534 4250 1286 3958 \nQ 1038 3666 1038 3163 \nQ 1038 2656 1286 2365 \nQ 1534 2075 1959 2075 \nz\n\" transform=\"scale(0.015625)\"/>\n       </defs>\n       <use xlink:href=\"#DejaVuSans-39\"/>\n      </g>\n     </g>\n    </g>\n    <g id=\"xtick_10\">\n     <g id=\"line2d_19\">\n      <path d=\"M 149.594882 290.25375 \nL 149.594882 24.14175 \n\" clip-path=\"url(#pb45944c96e)\" style=\"fill: none; stroke: #ffffff; stroke-width: 0.8; stroke-linecap: square\"/>\n     </g>\n     <g id=\"line2d_20\">\n      <g>\n       <use xlink:href=\"#m2079918dc2\" x=\"149.594882\" y=\"290.25375\" style=\"fill: #555555; stroke: #555555; stroke-width: 0.8\"/>\n      </g>\n     </g>\n     <g id=\"text_10\">\n      <!-- 10 -->\n      <g style=\"fill: #555555\" transform=\"translate(143.232382 304.852187) scale(0.1 -0.1)\">\n       <defs>\n        <path id=\"DejaVuSans-30\" d=\"M 2034 4250 \nQ 1547 4250 1301 3770 \nQ 1056 3291 1056 2328 \nQ 1056 1369 1301 889 \nQ 1547 409 2034 409 \nQ 2525 409 2770 889 \nQ 3016 1369 3016 2328 \nQ 3016 3291 2770 3770 \nQ 2525 4250 2034 4250 \nz\nM 2034 4750 \nQ 2819 4750 3233 4129 \nQ 3647 3509 3647 2328 \nQ 3647 1150 3233 529 \nQ 2819 -91 2034 -91 \nQ 1250 -91 836 529 \nQ 422 1150 422 2328 \nQ 422 3509 836 4129 \nQ 1250 4750 2034 4750 \nz\n\" transform=\"scale(0.015625)\"/>\n       </defs>\n       <use xlink:href=\"#DejaVuSans-31\"/>\n       <use xlink:href=\"#DejaVuSans-30\" x=\"63.623047\"/>\n      </g>\n     </g>\n    </g>\n    <g id=\"xtick_11\">\n     <g id=\"line2d_21\">\n      <path d=\"M 157.919358 290.25375 \nL 157.919358 24.14175 \n\" clip-path=\"url(#pb45944c96e)\" style=\"fill: none; stroke: #ffffff; stroke-width: 0.8; stroke-linecap: square\"/>\n     </g>\n     <g id=\"line2d_22\">\n      <g>\n       <use xlink:href=\"#m2079918dc2\" x=\"157.919358\" y=\"290.25375\" style=\"fill: #555555; stroke: #555555; stroke-width: 0.8\"/>\n      </g>\n     </g>\n     <g id=\"text_11\">\n      <!-- 11 -->\n      <g style=\"fill: #555555\" transform=\"translate(151.556858 304.852187) scale(0.1 -0.1)\">\n       <use xlink:href=\"#DejaVuSans-31\"/>\n       <use xlink:href=\"#DejaVuSans-31\" x=\"63.623047\"/>\n      </g>\n     </g>\n    </g>\n    <g id=\"xtick_12\">\n     <g id=\"line2d_23\">\n      <path d=\"M 166.243833 290.25375 \nL 166.243833 24.14175 \n\" clip-path=\"url(#pb45944c96e)\" style=\"fill: none; stroke: #ffffff; stroke-width: 0.8; stroke-linecap: square\"/>\n     </g>\n     <g id=\"line2d_24\">\n      <g>\n       <use xlink:href=\"#m2079918dc2\" x=\"166.243833\" y=\"290.25375\" style=\"fill: #555555; stroke: #555555; stroke-width: 0.8\"/>\n      </g>\n     </g>\n     <g id=\"text_12\">\n      <!-- 12 -->\n      <g style=\"fill: #555555\" transform=\"translate(159.881333 304.852187) scale(0.1 -0.1)\">\n       <use xlink:href=\"#DejaVuSans-31\"/>\n       <use xlink:href=\"#DejaVuSans-32\" x=\"63.623047\"/>\n      </g>\n     </g>\n    </g>\n    <g id=\"xtick_13\">\n     <g id=\"line2d_25\">\n      <path d=\"M 174.568309 290.25375 \nL 174.568309 24.14175 \n\" clip-path=\"url(#pb45944c96e)\" style=\"fill: none; stroke: #ffffff; stroke-width: 0.8; stroke-linecap: square\"/>\n     </g>\n     <g id=\"line2d_26\">\n      <g>\n       <use xlink:href=\"#m2079918dc2\" x=\"174.568309\" y=\"290.25375\" style=\"fill: #555555; stroke: #555555; stroke-width: 0.8\"/>\n      </g>\n     </g>\n     <g id=\"text_13\">\n      <!-- 13 -->\n      <g style=\"fill: #555555\" transform=\"translate(168.205809 304.852187) scale(0.1 -0.1)\">\n       <use xlink:href=\"#DejaVuSans-31\"/>\n       <use xlink:href=\"#DejaVuSans-33\" x=\"63.623047\"/>\n      </g>\n     </g>\n    </g>\n    <g id=\"xtick_14\">\n     <g id=\"line2d_27\">\n      <path d=\"M 182.892784 290.25375 \nL 182.892784 24.14175 \n\" clip-path=\"url(#pb45944c96e)\" style=\"fill: none; stroke: #ffffff; stroke-width: 0.8; stroke-linecap: square\"/>\n     </g>\n     <g id=\"line2d_28\">\n      <g>\n       <use xlink:href=\"#m2079918dc2\" x=\"182.892784\" y=\"290.25375\" style=\"fill: #555555; stroke: #555555; stroke-width: 0.8\"/>\n      </g>\n     </g>\n     <g id=\"text_14\">\n      <!-- 14 -->\n      <g style=\"fill: #555555\" transform=\"translate(176.530284 304.852187) scale(0.1 -0.1)\">\n       <use xlink:href=\"#DejaVuSans-31\"/>\n       <use xlink:href=\"#DejaVuSans-34\" x=\"63.623047\"/>\n      </g>\n     </g>\n    </g>\n    <g id=\"xtick_15\">\n     <g id=\"line2d_29\">\n      <path d=\"M 191.21726 290.25375 \nL 191.21726 24.14175 \n\" clip-path=\"url(#pb45944c96e)\" style=\"fill: none; stroke: #ffffff; stroke-width: 0.8; stroke-linecap: square\"/>\n     </g>\n     <g id=\"line2d_30\">\n      <g>\n       <use xlink:href=\"#m2079918dc2\" x=\"191.21726\" y=\"290.25375\" style=\"fill: #555555; stroke: #555555; stroke-width: 0.8\"/>\n      </g>\n     </g>\n     <g id=\"text_15\">\n      <!-- 15 -->\n      <g style=\"fill: #555555\" transform=\"translate(184.85476 304.852187) scale(0.1 -0.1)\">\n       <use xlink:href=\"#DejaVuSans-31\"/>\n       <use xlink:href=\"#DejaVuSans-35\" x=\"63.623047\"/>\n      </g>\n     </g>\n    </g>\n    <g id=\"xtick_16\">\n     <g id=\"line2d_31\">\n      <path d=\"M 199.541735 290.25375 \nL 199.541735 24.14175 \n\" clip-path=\"url(#pb45944c96e)\" style=\"fill: none; stroke: #ffffff; stroke-width: 0.8; stroke-linecap: square\"/>\n     </g>\n     <g id=\"line2d_32\">\n      <g>\n       <use xlink:href=\"#m2079918dc2\" x=\"199.541735\" y=\"290.25375\" style=\"fill: #555555; stroke: #555555; stroke-width: 0.8\"/>\n      </g>\n     </g>\n     <g id=\"text_16\">\n      <!-- 16 -->\n      <g style=\"fill: #555555\" transform=\"translate(193.179235 304.852187) scale(0.1 -0.1)\">\n       <use xlink:href=\"#DejaVuSans-31\"/>\n       <use xlink:href=\"#DejaVuSans-36\" x=\"63.623047\"/>\n      </g>\n     </g>\n    </g>\n    <g id=\"xtick_17\">\n     <g id=\"line2d_33\">\n      <path d=\"M 207.866211 290.25375 \nL 207.866211 24.14175 \n\" clip-path=\"url(#pb45944c96e)\" style=\"fill: none; stroke: #ffffff; stroke-width: 0.8; stroke-linecap: square\"/>\n     </g>\n     <g id=\"line2d_34\">\n      <g>\n       <use xlink:href=\"#m2079918dc2\" x=\"207.866211\" y=\"290.25375\" style=\"fill: #555555; stroke: #555555; stroke-width: 0.8\"/>\n      </g>\n     </g>\n     <g id=\"text_17\">\n      <!-- 17 -->\n      <g style=\"fill: #555555\" transform=\"translate(201.503711 304.852187) scale(0.1 -0.1)\">\n       <use xlink:href=\"#DejaVuSans-31\"/>\n       <use xlink:href=\"#DejaVuSans-37\" x=\"63.623047\"/>\n      </g>\n     </g>\n    </g>\n    <g id=\"xtick_18\">\n     <g id=\"line2d_35\">\n      <path d=\"M 216.190686 290.25375 \nL 216.190686 24.14175 \n\" clip-path=\"url(#pb45944c96e)\" style=\"fill: none; stroke: #ffffff; stroke-width: 0.8; stroke-linecap: square\"/>\n     </g>\n     <g id=\"line2d_36\">\n      <g>\n       <use xlink:href=\"#m2079918dc2\" x=\"216.190686\" y=\"290.25375\" style=\"fill: #555555; stroke: #555555; stroke-width: 0.8\"/>\n      </g>\n     </g>\n     <g id=\"text_18\">\n      <!-- 18 -->\n      <g style=\"fill: #555555\" transform=\"translate(209.828186 304.852187) scale(0.1 -0.1)\">\n       <use xlink:href=\"#DejaVuSans-31\"/>\n       <use xlink:href=\"#DejaVuSans-38\" x=\"63.623047\"/>\n      </g>\n     </g>\n    </g>\n    <g id=\"xtick_19\">\n     <g id=\"line2d_37\">\n      <path d=\"M 224.515162 290.25375 \nL 224.515162 24.14175 \n\" clip-path=\"url(#pb45944c96e)\" style=\"fill: none; stroke: #ffffff; stroke-width: 0.8; stroke-linecap: square\"/>\n     </g>\n     <g id=\"line2d_38\">\n      <g>\n       <use xlink:href=\"#m2079918dc2\" x=\"224.515162\" y=\"290.25375\" style=\"fill: #555555; stroke: #555555; stroke-width: 0.8\"/>\n      </g>\n     </g>\n     <g id=\"text_19\">\n      <!-- 19 -->\n      <g style=\"fill: #555555\" transform=\"translate(218.152662 304.852187) scale(0.1 -0.1)\">\n       <use xlink:href=\"#DejaVuSans-31\"/>\n       <use xlink:href=\"#DejaVuSans-39\" x=\"63.623047\"/>\n      </g>\n     </g>\n    </g>\n    <g id=\"xtick_20\">\n     <g id=\"line2d_39\">\n      <path d=\"M 232.839637 290.25375 \nL 232.839637 24.14175 \n\" clip-path=\"url(#pb45944c96e)\" style=\"fill: none; stroke: #ffffff; stroke-width: 0.8; stroke-linecap: square\"/>\n     </g>\n     <g id=\"line2d_40\">\n      <g>\n       <use xlink:href=\"#m2079918dc2\" x=\"232.839637\" y=\"290.25375\" style=\"fill: #555555; stroke: #555555; stroke-width: 0.8\"/>\n      </g>\n     </g>\n     <g id=\"text_20\">\n      <!-- 20 -->\n      <g style=\"fill: #555555\" transform=\"translate(226.477137 304.852187) scale(0.1 -0.1)\">\n       <use xlink:href=\"#DejaVuSans-32\"/>\n       <use xlink:href=\"#DejaVuSans-30\" x=\"63.623047\"/>\n      </g>\n     </g>\n    </g>\n    <g id=\"xtick_21\">\n     <g id=\"line2d_41\">\n      <path d=\"M 241.164113 290.25375 \nL 241.164113 24.14175 \n\" clip-path=\"url(#pb45944c96e)\" style=\"fill: none; stroke: #ffffff; stroke-width: 0.8; stroke-linecap: square\"/>\n     </g>\n     <g id=\"line2d_42\">\n      <g>\n       <use xlink:href=\"#m2079918dc2\" x=\"241.164113\" y=\"290.25375\" style=\"fill: #555555; stroke: #555555; stroke-width: 0.8\"/>\n      </g>\n     </g>\n     <g id=\"text_21\">\n      <!-- 21 -->\n      <g style=\"fill: #555555\" transform=\"translate(234.801613 304.852187) scale(0.1 -0.1)\">\n       <use xlink:href=\"#DejaVuSans-32\"/>\n       <use xlink:href=\"#DejaVuSans-31\" x=\"63.623047\"/>\n      </g>\n     </g>\n    </g>\n    <g id=\"xtick_22\">\n     <g id=\"line2d_43\">\n      <path d=\"M 249.488588 290.25375 \nL 249.488588 24.14175 \n\" clip-path=\"url(#pb45944c96e)\" style=\"fill: none; stroke: #ffffff; stroke-width: 0.8; stroke-linecap: square\"/>\n     </g>\n     <g id=\"line2d_44\">\n      <g>\n       <use xlink:href=\"#m2079918dc2\" x=\"249.488588\" y=\"290.25375\" style=\"fill: #555555; stroke: #555555; stroke-width: 0.8\"/>\n      </g>\n     </g>\n     <g id=\"text_22\">\n      <!-- 22 -->\n      <g style=\"fill: #555555\" transform=\"translate(243.126088 304.852187) scale(0.1 -0.1)\">\n       <use xlink:href=\"#DejaVuSans-32\"/>\n       <use xlink:href=\"#DejaVuSans-32\" x=\"63.623047\"/>\n      </g>\n     </g>\n    </g>\n    <g id=\"xtick_23\">\n     <g id=\"line2d_45\">\n      <path d=\"M 257.813064 290.25375 \nL 257.813064 24.14175 \n\" clip-path=\"url(#pb45944c96e)\" style=\"fill: none; stroke: #ffffff; stroke-width: 0.8; stroke-linecap: square\"/>\n     </g>\n     <g id=\"line2d_46\">\n      <g>\n       <use xlink:href=\"#m2079918dc2\" x=\"257.813064\" y=\"290.25375\" style=\"fill: #555555; stroke: #555555; stroke-width: 0.8\"/>\n      </g>\n     </g>\n     <g id=\"text_23\">\n      <!-- 23 -->\n      <g style=\"fill: #555555\" transform=\"translate(251.450564 304.852187) scale(0.1 -0.1)\">\n       <use xlink:href=\"#DejaVuSans-32\"/>\n       <use xlink:href=\"#DejaVuSans-33\" x=\"63.623047\"/>\n      </g>\n     </g>\n    </g>\n    <g id=\"xtick_24\">\n     <g id=\"line2d_47\">\n      <path d=\"M 266.137539 290.25375 \nL 266.137539 24.14175 \n\" clip-path=\"url(#pb45944c96e)\" style=\"fill: none; stroke: #ffffff; stroke-width: 0.8; stroke-linecap: square\"/>\n     </g>\n     <g id=\"line2d_48\">\n      <g>\n       <use xlink:href=\"#m2079918dc2\" x=\"266.137539\" y=\"290.25375\" style=\"fill: #555555; stroke: #555555; stroke-width: 0.8\"/>\n      </g>\n     </g>\n     <g id=\"text_24\">\n      <!-- 24 -->\n      <g style=\"fill: #555555\" transform=\"translate(259.775039 304.852187) scale(0.1 -0.1)\">\n       <use xlink:href=\"#DejaVuSans-32\"/>\n       <use xlink:href=\"#DejaVuSans-34\" x=\"63.623047\"/>\n      </g>\n     </g>\n    </g>\n    <g id=\"xtick_25\">\n     <g id=\"line2d_49\">\n      <path d=\"M 274.462015 290.25375 \nL 274.462015 24.14175 \n\" clip-path=\"url(#pb45944c96e)\" style=\"fill: none; stroke: #ffffff; stroke-width: 0.8; stroke-linecap: square\"/>\n     </g>\n     <g id=\"line2d_50\">\n      <g>\n       <use xlink:href=\"#m2079918dc2\" x=\"274.462015\" y=\"290.25375\" style=\"fill: #555555; stroke: #555555; stroke-width: 0.8\"/>\n      </g>\n     </g>\n     <g id=\"text_25\">\n      <!-- 25 -->\n      <g style=\"fill: #555555\" transform=\"translate(268.099515 304.852187) scale(0.1 -0.1)\">\n       <use xlink:href=\"#DejaVuSans-32\"/>\n       <use xlink:href=\"#DejaVuSans-35\" x=\"63.623047\"/>\n      </g>\n     </g>\n    </g>\n    <g id=\"xtick_26\">\n     <g id=\"line2d_51\">\n      <path d=\"M 282.78649 290.25375 \nL 282.78649 24.14175 \n\" clip-path=\"url(#pb45944c96e)\" style=\"fill: none; stroke: #ffffff; stroke-width: 0.8; stroke-linecap: square\"/>\n     </g>\n     <g id=\"line2d_52\">\n      <g>\n       <use xlink:href=\"#m2079918dc2\" x=\"282.78649\" y=\"290.25375\" style=\"fill: #555555; stroke: #555555; stroke-width: 0.8\"/>\n      </g>\n     </g>\n     <g id=\"text_26\">\n      <!-- 26 -->\n      <g style=\"fill: #555555\" transform=\"translate(276.42399 304.852187) scale(0.1 -0.1)\">\n       <use xlink:href=\"#DejaVuSans-32\"/>\n       <use xlink:href=\"#DejaVuSans-36\" x=\"63.623047\"/>\n      </g>\n     </g>\n    </g>\n    <g id=\"xtick_27\">\n     <g id=\"line2d_53\">\n      <path d=\"M 291.110966 290.25375 \nL 291.110966 24.14175 \n\" clip-path=\"url(#pb45944c96e)\" style=\"fill: none; stroke: #ffffff; stroke-width: 0.8; stroke-linecap: square\"/>\n     </g>\n     <g id=\"line2d_54\">\n      <g>\n       <use xlink:href=\"#m2079918dc2\" x=\"291.110966\" y=\"290.25375\" style=\"fill: #555555; stroke: #555555; stroke-width: 0.8\"/>\n      </g>\n     </g>\n     <g id=\"text_27\">\n      <!-- 27 -->\n      <g style=\"fill: #555555\" transform=\"translate(284.748466 304.852187) scale(0.1 -0.1)\">\n       <use xlink:href=\"#DejaVuSans-32\"/>\n       <use xlink:href=\"#DejaVuSans-37\" x=\"63.623047\"/>\n      </g>\n     </g>\n    </g>\n    <g id=\"xtick_28\">\n     <g id=\"line2d_55\">\n      <path d=\"M 299.435441 290.25375 \nL 299.435441 24.14175 \n\" clip-path=\"url(#pb45944c96e)\" style=\"fill: none; stroke: #ffffff; stroke-width: 0.8; stroke-linecap: square\"/>\n     </g>\n     <g id=\"line2d_56\">\n      <g>\n       <use xlink:href=\"#m2079918dc2\" x=\"299.435441\" y=\"290.25375\" style=\"fill: #555555; stroke: #555555; stroke-width: 0.8\"/>\n      </g>\n     </g>\n     <g id=\"text_28\">\n      <!-- 28 -->\n      <g style=\"fill: #555555\" transform=\"translate(293.072941 304.852187) scale(0.1 -0.1)\">\n       <use xlink:href=\"#DejaVuSans-32\"/>\n       <use xlink:href=\"#DejaVuSans-38\" x=\"63.623047\"/>\n      </g>\n     </g>\n    </g>\n    <g id=\"xtick_29\">\n     <g id=\"line2d_57\">\n      <path d=\"M 307.759917 290.25375 \nL 307.759917 24.14175 \n\" clip-path=\"url(#pb45944c96e)\" style=\"fill: none; stroke: #ffffff; stroke-width: 0.8; stroke-linecap: square\"/>\n     </g>\n     <g id=\"line2d_58\">\n      <g>\n       <use xlink:href=\"#m2079918dc2\" x=\"307.759917\" y=\"290.25375\" style=\"fill: #555555; stroke: #555555; stroke-width: 0.8\"/>\n      </g>\n     </g>\n     <g id=\"text_29\">\n      <!-- 29 -->\n      <g style=\"fill: #555555\" transform=\"translate(301.397417 304.852187) scale(0.1 -0.1)\">\n       <use xlink:href=\"#DejaVuSans-32\"/>\n       <use xlink:href=\"#DejaVuSans-39\" x=\"63.623047\"/>\n      </g>\n     </g>\n    </g>\n    <g id=\"xtick_30\">\n     <g id=\"line2d_59\">\n      <path d=\"M 316.084392 290.25375 \nL 316.084392 24.14175 \n\" clip-path=\"url(#pb45944c96e)\" style=\"fill: none; stroke: #ffffff; stroke-width: 0.8; stroke-linecap: square\"/>\n     </g>\n     <g id=\"line2d_60\">\n      <g>\n       <use xlink:href=\"#m2079918dc2\" x=\"316.084392\" y=\"290.25375\" style=\"fill: #555555; stroke: #555555; stroke-width: 0.8\"/>\n      </g>\n     </g>\n     <g id=\"text_30\">\n      <!-- 30 -->\n      <g style=\"fill: #555555\" transform=\"translate(309.721892 304.852187) scale(0.1 -0.1)\">\n       <use xlink:href=\"#DejaVuSans-33\"/>\n       <use xlink:href=\"#DejaVuSans-30\" x=\"63.623047\"/>\n      </g>\n     </g>\n    </g>\n    <g id=\"xtick_31\">\n     <g id=\"line2d_61\">\n      <path d=\"M 324.408868 290.25375 \nL 324.408868 24.14175 \n\" clip-path=\"url(#pb45944c96e)\" style=\"fill: none; stroke: #ffffff; stroke-width: 0.8; stroke-linecap: square\"/>\n     </g>\n     <g id=\"line2d_62\">\n      <g>\n       <use xlink:href=\"#m2079918dc2\" x=\"324.408868\" y=\"290.25375\" style=\"fill: #555555; stroke: #555555; stroke-width: 0.8\"/>\n      </g>\n     </g>\n     <g id=\"text_31\">\n      <!-- 31 -->\n      <g style=\"fill: #555555\" transform=\"translate(318.046368 304.852187) scale(0.1 -0.1)\">\n       <use xlink:href=\"#DejaVuSans-33\"/>\n       <use xlink:href=\"#DejaVuSans-31\" x=\"63.623047\"/>\n      </g>\n     </g>\n    </g>\n    <g id=\"xtick_32\">\n     <g id=\"line2d_63\">\n      <path d=\"M 332.733344 290.25375 \nL 332.733344 24.14175 \n\" clip-path=\"url(#pb45944c96e)\" style=\"fill: none; stroke: #ffffff; stroke-width: 0.8; stroke-linecap: square\"/>\n     </g>\n     <g id=\"line2d_64\">\n      <g>\n       <use xlink:href=\"#m2079918dc2\" x=\"332.733344\" y=\"290.25375\" style=\"fill: #555555; stroke: #555555; stroke-width: 0.8\"/>\n      </g>\n     </g>\n     <g id=\"text_32\">\n      <!-- 32 -->\n      <g style=\"fill: #555555\" transform=\"translate(326.370844 304.852187) scale(0.1 -0.1)\">\n       <use xlink:href=\"#DejaVuSans-33\"/>\n       <use xlink:href=\"#DejaVuSans-32\" x=\"63.623047\"/>\n      </g>\n     </g>\n    </g>\n    <g id=\"xtick_33\">\n     <g id=\"line2d_65\">\n      <path d=\"M 341.057819 290.25375 \nL 341.057819 24.14175 \n\" clip-path=\"url(#pb45944c96e)\" style=\"fill: none; stroke: #ffffff; stroke-width: 0.8; stroke-linecap: square\"/>\n     </g>\n     <g id=\"line2d_66\">\n      <g>\n       <use xlink:href=\"#m2079918dc2\" x=\"341.057819\" y=\"290.25375\" style=\"fill: #555555; stroke: #555555; stroke-width: 0.8\"/>\n      </g>\n     </g>\n     <g id=\"text_33\">\n      <!-- 33 -->\n      <g style=\"fill: #555555\" transform=\"translate(334.695319 304.852187) scale(0.1 -0.1)\">\n       <use xlink:href=\"#DejaVuSans-33\"/>\n       <use xlink:href=\"#DejaVuSans-33\" x=\"63.623047\"/>\n      </g>\n     </g>\n    </g>\n    <g id=\"xtick_34\">\n     <g id=\"line2d_67\">\n      <path d=\"M 349.382295 290.25375 \nL 349.382295 24.14175 \n\" clip-path=\"url(#pb45944c96e)\" style=\"fill: none; stroke: #ffffff; stroke-width: 0.8; stroke-linecap: square\"/>\n     </g>\n     <g id=\"line2d_68\">\n      <g>\n       <use xlink:href=\"#m2079918dc2\" x=\"349.382295\" y=\"290.25375\" style=\"fill: #555555; stroke: #555555; stroke-width: 0.8\"/>\n      </g>\n     </g>\n     <g id=\"text_34\">\n      <!-- 34 -->\n      <g style=\"fill: #555555\" transform=\"translate(343.019795 304.852187) scale(0.1 -0.1)\">\n       <use xlink:href=\"#DejaVuSans-33\"/>\n       <use xlink:href=\"#DejaVuSans-34\" x=\"63.623047\"/>\n      </g>\n     </g>\n    </g>\n    <g id=\"xtick_35\">\n     <g id=\"line2d_69\">\n      <path d=\"M 357.70677 290.25375 \nL 357.70677 24.14175 \n\" clip-path=\"url(#pb45944c96e)\" style=\"fill: none; stroke: #ffffff; stroke-width: 0.8; stroke-linecap: square\"/>\n     </g>\n     <g id=\"line2d_70\">\n      <g>\n       <use xlink:href=\"#m2079918dc2\" x=\"357.70677\" y=\"290.25375\" style=\"fill: #555555; stroke: #555555; stroke-width: 0.8\"/>\n      </g>\n     </g>\n     <g id=\"text_35\">\n      <!-- 35 -->\n      <g style=\"fill: #555555\" transform=\"translate(351.34427 304.852187) scale(0.1 -0.1)\">\n       <use xlink:href=\"#DejaVuSans-33\"/>\n       <use xlink:href=\"#DejaVuSans-35\" x=\"63.623047\"/>\n      </g>\n     </g>\n    </g>\n    <g id=\"xtick_36\">\n     <g id=\"line2d_71\">\n      <path d=\"M 366.031246 290.25375 \nL 366.031246 24.14175 \n\" clip-path=\"url(#pb45944c96e)\" style=\"fill: none; stroke: #ffffff; stroke-width: 0.8; stroke-linecap: square\"/>\n     </g>\n     <g id=\"line2d_72\">\n      <g>\n       <use xlink:href=\"#m2079918dc2\" x=\"366.031246\" y=\"290.25375\" style=\"fill: #555555; stroke: #555555; stroke-width: 0.8\"/>\n      </g>\n     </g>\n     <g id=\"text_36\">\n      <!-- 36 -->\n      <g style=\"fill: #555555\" transform=\"translate(359.668746 304.852187) scale(0.1 -0.1)\">\n       <use xlink:href=\"#DejaVuSans-33\"/>\n       <use xlink:href=\"#DejaVuSans-36\" x=\"63.623047\"/>\n      </g>\n     </g>\n    </g>\n    <g id=\"xtick_37\">\n     <g id=\"line2d_73\">\n      <path d=\"M 374.355721 290.25375 \nL 374.355721 24.14175 \n\" clip-path=\"url(#pb45944c96e)\" style=\"fill: none; stroke: #ffffff; stroke-width: 0.8; stroke-linecap: square\"/>\n     </g>\n     <g id=\"line2d_74\">\n      <g>\n       <use xlink:href=\"#m2079918dc2\" x=\"374.355721\" y=\"290.25375\" style=\"fill: #555555; stroke: #555555; stroke-width: 0.8\"/>\n      </g>\n     </g>\n     <g id=\"text_37\">\n      <!-- 37 -->\n      <g style=\"fill: #555555\" transform=\"translate(367.993221 304.852187) scale(0.1 -0.1)\">\n       <use xlink:href=\"#DejaVuSans-33\"/>\n       <use xlink:href=\"#DejaVuSans-37\" x=\"63.623047\"/>\n      </g>\n     </g>\n    </g>\n    <g id=\"xtick_38\">\n     <g id=\"line2d_75\">\n      <path d=\"M 382.680197 290.25375 \nL 382.680197 24.14175 \n\" clip-path=\"url(#pb45944c96e)\" style=\"fill: none; stroke: #ffffff; stroke-width: 0.8; stroke-linecap: square\"/>\n     </g>\n     <g id=\"line2d_76\">\n      <g>\n       <use xlink:href=\"#m2079918dc2\" x=\"382.680197\" y=\"290.25375\" style=\"fill: #555555; stroke: #555555; stroke-width: 0.8\"/>\n      </g>\n     </g>\n     <g id=\"text_38\">\n      <!-- 38 -->\n      <g style=\"fill: #555555\" transform=\"translate(376.317697 304.852187) scale(0.1 -0.1)\">\n       <use xlink:href=\"#DejaVuSans-33\"/>\n       <use xlink:href=\"#DejaVuSans-38\" x=\"63.623047\"/>\n      </g>\n     </g>\n    </g>\n    <g id=\"xtick_39\">\n     <g id=\"line2d_77\">\n      <path d=\"M 391.004672 290.25375 \nL 391.004672 24.14175 \n\" clip-path=\"url(#pb45944c96e)\" style=\"fill: none; stroke: #ffffff; stroke-width: 0.8; stroke-linecap: square\"/>\n     </g>\n     <g id=\"line2d_78\">\n      <g>\n       <use xlink:href=\"#m2079918dc2\" x=\"391.004672\" y=\"290.25375\" style=\"fill: #555555; stroke: #555555; stroke-width: 0.8\"/>\n      </g>\n     </g>\n     <g id=\"text_39\">\n      <!-- 39 -->\n      <g style=\"fill: #555555\" transform=\"translate(384.642172 304.852187) scale(0.1 -0.1)\">\n       <use xlink:href=\"#DejaVuSans-33\"/>\n       <use xlink:href=\"#DejaVuSans-39\" x=\"63.623047\"/>\n      </g>\n     </g>\n    </g>\n    <g id=\"xtick_40\">\n     <g id=\"line2d_79\">\n      <path d=\"M 399.329148 290.25375 \nL 399.329148 24.14175 \n\" clip-path=\"url(#pb45944c96e)\" style=\"fill: none; stroke: #ffffff; stroke-width: 0.8; stroke-linecap: square\"/>\n     </g>\n     <g id=\"line2d_80\">\n      <g>\n       <use xlink:href=\"#m2079918dc2\" x=\"399.329148\" y=\"290.25375\" style=\"fill: #555555; stroke: #555555; stroke-width: 0.8\"/>\n      </g>\n     </g>\n     <g id=\"text_40\">\n      <!-- 40 -->\n      <g style=\"fill: #555555\" transform=\"translate(392.966648 304.852187) scale(0.1 -0.1)\">\n       <use xlink:href=\"#DejaVuSans-34\"/>\n       <use xlink:href=\"#DejaVuSans-30\" x=\"63.623047\"/>\n      </g>\n     </g>\n    </g>\n    <g id=\"text_41\">\n     <!-- Epoch # -->\n     <g style=\"fill: #555555\" transform=\"translate(211.694063 320.05) scale(0.12 -0.12)\">\n      <defs>\n       <path id=\"DejaVuSans-45\" d=\"M 628 4666 \nL 3578 4666 \nL 3578 4134 \nL 1259 4134 \nL 1259 2753 \nL 3481 2753 \nL 3481 2222 \nL 1259 2222 \nL 1259 531 \nL 3634 531 \nL 3634 0 \nL 628 0 \nL 628 4666 \nz\n\" transform=\"scale(0.015625)\"/>\n       <path id=\"DejaVuSans-70\" d=\"M 1159 525 \nL 1159 -1331 \nL 581 -1331 \nL 581 3500 \nL 1159 3500 \nL 1159 2969 \nQ 1341 3281 1617 3432 \nQ 1894 3584 2278 3584 \nQ 2916 3584 3314 3078 \nQ 3713 2572 3713 1747 \nQ 3713 922 3314 415 \nQ 2916 -91 2278 -91 \nQ 1894 -91 1617 61 \nQ 1341 213 1159 525 \nz\nM 3116 1747 \nQ 3116 2381 2855 2742 \nQ 2594 3103 2138 3103 \nQ 1681 3103 1420 2742 \nQ 1159 2381 1159 1747 \nQ 1159 1113 1420 752 \nQ 1681 391 2138 391 \nQ 2594 391 2855 752 \nQ 3116 1113 3116 1747 \nz\n\" transform=\"scale(0.015625)\"/>\n       <path id=\"DejaVuSans-6f\" d=\"M 1959 3097 \nQ 1497 3097 1228 2736 \nQ 959 2375 959 1747 \nQ 959 1119 1226 758 \nQ 1494 397 1959 397 \nQ 2419 397 2687 759 \nQ 2956 1122 2956 1747 \nQ 2956 2369 2687 2733 \nQ 2419 3097 1959 3097 \nz\nM 1959 3584 \nQ 2709 3584 3137 3096 \nQ 3566 2609 3566 1747 \nQ 3566 888 3137 398 \nQ 2709 -91 1959 -91 \nQ 1206 -91 779 398 \nQ 353 888 353 1747 \nQ 353 2609 779 3096 \nQ 1206 3584 1959 3584 \nz\n\" transform=\"scale(0.015625)\"/>\n       <path id=\"DejaVuSans-63\" d=\"M 3122 3366 \nL 3122 2828 \nQ 2878 2963 2633 3030 \nQ 2388 3097 2138 3097 \nQ 1578 3097 1268 2742 \nQ 959 2388 959 1747 \nQ 959 1106 1268 751 \nQ 1578 397 2138 397 \nQ 2388 397 2633 464 \nQ 2878 531 3122 666 \nL 3122 134 \nQ 2881 22 2623 -34 \nQ 2366 -91 2075 -91 \nQ 1284 -91 818 406 \nQ 353 903 353 1747 \nQ 353 2603 823 3093 \nQ 1294 3584 2113 3584 \nQ 2378 3584 2631 3529 \nQ 2884 3475 3122 3366 \nz\n\" transform=\"scale(0.015625)\"/>\n       <path id=\"DejaVuSans-68\" d=\"M 3513 2113 \nL 3513 0 \nL 2938 0 \nL 2938 2094 \nQ 2938 2591 2744 2837 \nQ 2550 3084 2163 3084 \nQ 1697 3084 1428 2787 \nQ 1159 2491 1159 1978 \nL 1159 0 \nL 581 0 \nL 581 4863 \nL 1159 4863 \nL 1159 2956 \nQ 1366 3272 1645 3428 \nQ 1925 3584 2291 3584 \nQ 2894 3584 3203 3211 \nQ 3513 2838 3513 2113 \nz\n\" transform=\"scale(0.015625)\"/>\n       <path id=\"DejaVuSans-20\" transform=\"scale(0.015625)\"/>\n       <path id=\"DejaVuSans-23\" d=\"M 3272 2816 \nL 2363 2816 \nL 2100 1772 \nL 3016 1772 \nL 3272 2816 \nz\nM 2803 4594 \nL 2478 3297 \nL 3391 3297 \nL 3719 4594 \nL 4219 4594 \nL 3897 3297 \nL 4872 3297 \nL 4872 2816 \nL 3775 2816 \nL 3519 1772 \nL 4513 1772 \nL 4513 1294 \nL 3397 1294 \nL 3072 0 \nL 2572 0 \nL 2894 1294 \nL 1978 1294 \nL 1656 0 \nL 1153 0 \nL 1478 1294 \nL 494 1294 \nL 494 1772 \nL 1594 1772 \nL 1856 2816 \nL 850 2816 \nL 850 3297 \nL 1978 3297 \nL 2297 4594 \nL 2803 4594 \nz\n\" transform=\"scale(0.015625)\"/>\n      </defs>\n      <use xlink:href=\"#DejaVuSans-45\"/>\n      <use xlink:href=\"#DejaVuSans-70\" x=\"63.183594\"/>\n      <use xlink:href=\"#DejaVuSans-6f\" x=\"126.660156\"/>\n      <use xlink:href=\"#DejaVuSans-63\" x=\"187.841797\"/>\n      <use xlink:href=\"#DejaVuSans-68\" x=\"242.822266\"/>\n      <use xlink:href=\"#DejaVuSans-20\" x=\"306.201172\"/>\n      <use xlink:href=\"#DejaVuSans-23\" x=\"337.988281\"/>\n     </g>\n    </g>\n   </g>\n   <g id=\"matplotlib.axis_2\">\n    <g id=\"ytick_1\">\n     <g id=\"line2d_81\">\n      <path d=\"M 58.441875 264.1768 \nL 415.561875 264.1768 \n\" clip-path=\"url(#pb45944c96e)\" style=\"fill: none; stroke: #ffffff; stroke-width: 0.8; stroke-linecap: square\"/>\n     </g>\n     <g id=\"line2d_82\">\n      <defs>\n       <path id=\"m4d887b6879\" d=\"M 0 0 \nL -3.5 0 \n\" style=\"stroke: #555555; stroke-width: 0.8\"/>\n      </defs>\n      <g>\n       <use xlink:href=\"#m4d887b6879\" x=\"58.441875\" y=\"264.1768\" style=\"fill: #555555; stroke: #555555; stroke-width: 0.8\"/>\n      </g>\n     </g>\n     <g id=\"text_42\">\n      <!-- 0.025 -->\n      <g style=\"fill: #555555\" transform=\"translate(22.81375 267.976019) scale(0.1 -0.1)\">\n       <defs>\n        <path id=\"DejaVuSans-2e\" d=\"M 684 794 \nL 1344 794 \nL 1344 0 \nL 684 0 \nL 684 794 \nz\n\" transform=\"scale(0.015625)\"/>\n       </defs>\n       <use xlink:href=\"#DejaVuSans-30\"/>\n       <use xlink:href=\"#DejaVuSans-2e\" x=\"63.623047\"/>\n       <use xlink:href=\"#DejaVuSans-30\" x=\"95.410156\"/>\n       <use xlink:href=\"#DejaVuSans-32\" x=\"159.033203\"/>\n       <use xlink:href=\"#DejaVuSans-35\" x=\"222.65625\"/>\n      </g>\n     </g>\n    </g>\n    <g id=\"ytick_2\">\n     <g id=\"line2d_83\">\n      <path d=\"M 58.441875 224.601936 \nL 415.561875 224.601936 \n\" clip-path=\"url(#pb45944c96e)\" style=\"fill: none; stroke: #ffffff; stroke-width: 0.8; stroke-linecap: square\"/>\n     </g>\n     <g id=\"line2d_84\">\n      <g>\n       <use xlink:href=\"#m4d887b6879\" x=\"58.441875\" y=\"224.601936\" style=\"fill: #555555; stroke: #555555; stroke-width: 0.8\"/>\n      </g>\n     </g>\n     <g id=\"text_43\">\n      <!-- 0.030 -->\n      <g style=\"fill: #555555\" transform=\"translate(22.81375 228.401155) scale(0.1 -0.1)\">\n       <use xlink:href=\"#DejaVuSans-30\"/>\n       <use xlink:href=\"#DejaVuSans-2e\" x=\"63.623047\"/>\n       <use xlink:href=\"#DejaVuSans-30\" x=\"95.410156\"/>\n       <use xlink:href=\"#DejaVuSans-33\" x=\"159.033203\"/>\n       <use xlink:href=\"#DejaVuSans-30\" x=\"222.65625\"/>\n      </g>\n     </g>\n    </g>\n    <g id=\"ytick_3\">\n     <g id=\"line2d_85\">\n      <path d=\"M 58.441875 185.027073 \nL 415.561875 185.027073 \n\" clip-path=\"url(#pb45944c96e)\" style=\"fill: none; stroke: #ffffff; stroke-width: 0.8; stroke-linecap: square\"/>\n     </g>\n     <g id=\"line2d_86\">\n      <g>\n       <use xlink:href=\"#m4d887b6879\" x=\"58.441875\" y=\"185.027073\" style=\"fill: #555555; stroke: #555555; stroke-width: 0.8\"/>\n      </g>\n     </g>\n     <g id=\"text_44\">\n      <!-- 0.035 -->\n      <g style=\"fill: #555555\" transform=\"translate(22.81375 188.826291) scale(0.1 -0.1)\">\n       <use xlink:href=\"#DejaVuSans-30\"/>\n       <use xlink:href=\"#DejaVuSans-2e\" x=\"63.623047\"/>\n       <use xlink:href=\"#DejaVuSans-30\" x=\"95.410156\"/>\n       <use xlink:href=\"#DejaVuSans-33\" x=\"159.033203\"/>\n       <use xlink:href=\"#DejaVuSans-35\" x=\"222.65625\"/>\n      </g>\n     </g>\n    </g>\n    <g id=\"ytick_4\">\n     <g id=\"line2d_87\">\n      <path d=\"M 58.441875 145.452209 \nL 415.561875 145.452209 \n\" clip-path=\"url(#pb45944c96e)\" style=\"fill: none; stroke: #ffffff; stroke-width: 0.8; stroke-linecap: square\"/>\n     </g>\n     <g id=\"line2d_88\">\n      <g>\n       <use xlink:href=\"#m4d887b6879\" x=\"58.441875\" y=\"145.452209\" style=\"fill: #555555; stroke: #555555; stroke-width: 0.8\"/>\n      </g>\n     </g>\n     <g id=\"text_45\">\n      <!-- 0.040 -->\n      <g style=\"fill: #555555\" transform=\"translate(22.81375 149.251428) scale(0.1 -0.1)\">\n       <use xlink:href=\"#DejaVuSans-30\"/>\n       <use xlink:href=\"#DejaVuSans-2e\" x=\"63.623047\"/>\n       <use xlink:href=\"#DejaVuSans-30\" x=\"95.410156\"/>\n       <use xlink:href=\"#DejaVuSans-34\" x=\"159.033203\"/>\n       <use xlink:href=\"#DejaVuSans-30\" x=\"222.65625\"/>\n      </g>\n     </g>\n    </g>\n    <g id=\"ytick_5\">\n     <g id=\"line2d_89\">\n      <path d=\"M 58.441875 105.877346 \nL 415.561875 105.877346 \n\" clip-path=\"url(#pb45944c96e)\" style=\"fill: none; stroke: #ffffff; stroke-width: 0.8; stroke-linecap: square\"/>\n     </g>\n     <g id=\"line2d_90\">\n      <g>\n       <use xlink:href=\"#m4d887b6879\" x=\"58.441875\" y=\"105.877346\" style=\"fill: #555555; stroke: #555555; stroke-width: 0.8\"/>\n      </g>\n     </g>\n     <g id=\"text_46\">\n      <!-- 0.045 -->\n      <g style=\"fill: #555555\" transform=\"translate(22.81375 109.676564) scale(0.1 -0.1)\">\n       <use xlink:href=\"#DejaVuSans-30\"/>\n       <use xlink:href=\"#DejaVuSans-2e\" x=\"63.623047\"/>\n       <use xlink:href=\"#DejaVuSans-30\" x=\"95.410156\"/>\n       <use xlink:href=\"#DejaVuSans-34\" x=\"159.033203\"/>\n       <use xlink:href=\"#DejaVuSans-35\" x=\"222.65625\"/>\n      </g>\n     </g>\n    </g>\n    <g id=\"ytick_6\">\n     <g id=\"line2d_91\">\n      <path d=\"M 58.441875 66.302482 \nL 415.561875 66.302482 \n\" clip-path=\"url(#pb45944c96e)\" style=\"fill: none; stroke: #ffffff; stroke-width: 0.8; stroke-linecap: square\"/>\n     </g>\n     <g id=\"line2d_92\">\n      <g>\n       <use xlink:href=\"#m4d887b6879\" x=\"58.441875\" y=\"66.302482\" style=\"fill: #555555; stroke: #555555; stroke-width: 0.8\"/>\n      </g>\n     </g>\n     <g id=\"text_47\">\n      <!-- 0.050 -->\n      <g style=\"fill: #555555\" transform=\"translate(22.81375 70.101701) scale(0.1 -0.1)\">\n       <use xlink:href=\"#DejaVuSans-30\"/>\n       <use xlink:href=\"#DejaVuSans-2e\" x=\"63.623047\"/>\n       <use xlink:href=\"#DejaVuSans-30\" x=\"95.410156\"/>\n       <use xlink:href=\"#DejaVuSans-35\" x=\"159.033203\"/>\n       <use xlink:href=\"#DejaVuSans-30\" x=\"222.65625\"/>\n      </g>\n     </g>\n    </g>\n    <g id=\"ytick_7\">\n     <g id=\"line2d_93\">\n      <path d=\"M 58.441875 26.727618 \nL 415.561875 26.727618 \n\" clip-path=\"url(#pb45944c96e)\" style=\"fill: none; stroke: #ffffff; stroke-width: 0.8; stroke-linecap: square\"/>\n     </g>\n     <g id=\"line2d_94\">\n      <g>\n       <use xlink:href=\"#m4d887b6879\" x=\"58.441875\" y=\"26.727618\" style=\"fill: #555555; stroke: #555555; stroke-width: 0.8\"/>\n      </g>\n     </g>\n     <g id=\"text_48\">\n      <!-- 0.055 -->\n      <g style=\"fill: #555555\" transform=\"translate(22.81375 30.526837) scale(0.1 -0.1)\">\n       <use xlink:href=\"#DejaVuSans-30\"/>\n       <use xlink:href=\"#DejaVuSans-2e\" x=\"63.623047\"/>\n       <use xlink:href=\"#DejaVuSans-30\" x=\"95.410156\"/>\n       <use xlink:href=\"#DejaVuSans-35\" x=\"159.033203\"/>\n       <use xlink:href=\"#DejaVuSans-35\" x=\"222.65625\"/>\n      </g>\n     </g>\n    </g>\n    <g id=\"text_49\">\n     <!-- Loss -->\n     <g style=\"fill: #555555\" transform=\"translate(16.318125 170.358375) rotate(-90) scale(0.12 -0.12)\">\n      <defs>\n       <path id=\"DejaVuSans-4c\" d=\"M 628 4666 \nL 1259 4666 \nL 1259 531 \nL 3531 531 \nL 3531 0 \nL 628 0 \nL 628 4666 \nz\n\" transform=\"scale(0.015625)\"/>\n       <path id=\"DejaVuSans-73\" d=\"M 2834 3397 \nL 2834 2853 \nQ 2591 2978 2328 3040 \nQ 2066 3103 1784 3103 \nQ 1356 3103 1142 2972 \nQ 928 2841 928 2578 \nQ 928 2378 1081 2264 \nQ 1234 2150 1697 2047 \nL 1894 2003 \nQ 2506 1872 2764 1633 \nQ 3022 1394 3022 966 \nQ 3022 478 2636 193 \nQ 2250 -91 1575 -91 \nQ 1294 -91 989 -36 \nQ 684 19 347 128 \nL 347 722 \nQ 666 556 975 473 \nQ 1284 391 1588 391 \nQ 1994 391 2212 530 \nQ 2431 669 2431 922 \nQ 2431 1156 2273 1281 \nQ 2116 1406 1581 1522 \nL 1381 1569 \nQ 847 1681 609 1914 \nQ 372 2147 372 2553 \nQ 372 3047 722 3315 \nQ 1072 3584 1716 3584 \nQ 2034 3584 2315 3537 \nQ 2597 3491 2834 3397 \nz\n\" transform=\"scale(0.015625)\"/>\n      </defs>\n      <use xlink:href=\"#DejaVuSans-4c\"/>\n      <use xlink:href=\"#DejaVuSans-6f\" x=\"53.962891\"/>\n      <use xlink:href=\"#DejaVuSans-73\" x=\"115.144531\"/>\n      <use xlink:href=\"#DejaVuSans-73\" x=\"167.244141\"/>\n     </g>\n    </g>\n   </g>\n   <g id=\"line2d_95\">\n    <path d=\"M 74.674602 36.23775 \nL 82.999078 155.773825 \nL 91.323553 204.789599 \nL 99.648029 226.864369 \nL 107.972504 236.122141 \nL 116.29698 246.611987 \nL 124.621455 255.854369 \nL 132.945931 262.239876 \nL 141.270406 266.174206 \nL 149.594882 268.525897 \nL 157.919358 269.851904 \nL 166.243833 270.833338 \nL 174.568309 271.617381 \nL 182.892784 272.20525 \nL 191.21726 272.70482 \nL 199.541735 273.080508 \nL 207.866211 273.576467 \nL 216.190686 273.960999 \nL 224.515162 274.366613 \nL 232.839637 274.599191 \nL 241.164113 274.925946 \nL 249.488588 275.187843 \nL 257.813064 275.270196 \nL 266.137539 275.545779 \nL 274.462015 275.647255 \nL 282.78649 275.729771 \nL 291.110966 275.778448 \nL 299.435441 275.819679 \nL 307.759917 275.988178 \nL 316.084392 275.923445 \nL 324.408868 275.995337 \nL 332.733344 276.009482 \nL 341.057819 276.135944 \nL 349.382295 276.161914 \nL 357.70677 276.197776 \nL 366.031246 276.176889 \nL 374.355721 276.259481 \nL 382.680197 276.307185 \nL 391.004672 276.400586 \nL 399.329148 276.3736 \n\" clip-path=\"url(#pb45944c96e)\" style=\"fill: none; stroke: #e24a33; stroke-width: 1.5; stroke-linecap: square\"/>\n   </g>\n   <g id=\"line2d_96\">\n    <path d=\"M 74.674602 88.670537 \nL 82.999078 188.177864 \nL 91.323553 222.068006 \nL 99.648029 233.492088 \nL 107.972504 242.854692 \nL 116.29698 253.699872 \nL 124.621455 261.62865 \nL 132.945931 266.609695 \nL 141.270406 269.596845 \nL 149.594882 270.875577 \nL 157.919358 272.500071 \nL 166.243833 273.395021 \nL 174.568309 273.93544 \nL 182.892784 274.075928 \nL 191.21726 274.493594 \nL 199.541735 275.243931 \nL 207.866211 275.640623 \nL 216.190686 275.644444 \nL 224.515162 274.726294 \nL 232.839637 276.422966 \nL 241.164113 277.090744 \nL 249.488588 276.909079 \nL 257.813064 277.29769 \nL 266.137539 276.950179 \nL 274.462015 277.530196 \nL 282.78649 277.426713 \nL 291.110966 277.673756 \nL 299.435441 277.845888 \nL 307.759917 275.89871 \nL 316.084392 277.648967 \nL 324.408868 277.686446 \nL 332.733344 277.89983 \nL 341.057819 277.903446 \nL 349.382295 277.73791 \nL 357.70677 277.985455 \nL 366.031246 277.877752 \nL 374.355721 277.928558 \nL 382.680197 278.012917 \nL 391.004672 277.941628 \nL 399.329148 278.15775 \n\" clip-path=\"url(#pb45944c96e)\" style=\"fill: none; stroke: #348abd; stroke-width: 1.5; stroke-linecap: square\"/>\n   </g>\n   <g id=\"patch_3\">\n    <path d=\"M 58.441875 290.25375 \nL 58.441875 24.14175 \n\" style=\"fill: none; stroke: #ffffff; stroke-linejoin: miter; stroke-linecap: square\"/>\n   </g>\n   <g id=\"patch_4\">\n    <path d=\"M 415.561875 290.25375 \nL 415.561875 24.14175 \n\" style=\"fill: none; stroke: #ffffff; stroke-linejoin: miter; stroke-linecap: square\"/>\n   </g>\n   <g id=\"patch_5\">\n    <path d=\"M 58.441875 290.25375 \nL 415.561875 290.25375 \n\" style=\"fill: none; stroke: #ffffff; stroke-linejoin: miter; stroke-linecap: square\"/>\n   </g>\n   <g id=\"patch_6\">\n    <path d=\"M 58.441875 24.14175 \nL 415.561875 24.14175 \n\" style=\"fill: none; stroke: #ffffff; stroke-linejoin: miter; stroke-linecap: square\"/>\n   </g>\n   <g id=\"text_50\">\n    <!-- Losses -->\n    <g transform=\"translate(213.028125 18.14175) scale(0.144 -0.144)\">\n     <defs>\n      <path id=\"DejaVuSans-65\" d=\"M 3597 1894 \nL 3597 1613 \nL 953 1613 \nQ 991 1019 1311 708 \nQ 1631 397 2203 397 \nQ 2534 397 2845 478 \nQ 3156 559 3463 722 \nL 3463 178 \nQ 3153 47 2828 -22 \nQ 2503 -91 2169 -91 \nQ 1331 -91 842 396 \nQ 353 884 353 1716 \nQ 353 2575 817 3079 \nQ 1281 3584 2069 3584 \nQ 2775 3584 3186 3129 \nQ 3597 2675 3597 1894 \nz\nM 3022 2063 \nQ 3016 2534 2758 2815 \nQ 2500 3097 2075 3097 \nQ 1594 3097 1305 2825 \nQ 1016 2553 972 2059 \nL 3022 2063 \nz\n\" transform=\"scale(0.015625)\"/>\n     </defs>\n     <use xlink:href=\"#DejaVuSans-4c\"/>\n     <use xlink:href=\"#DejaVuSans-6f\" x=\"53.962891\"/>\n     <use xlink:href=\"#DejaVuSans-73\" x=\"115.144531\"/>\n     <use xlink:href=\"#DejaVuSans-73\" x=\"167.244141\"/>\n     <use xlink:href=\"#DejaVuSans-65\" x=\"219.34375\"/>\n     <use xlink:href=\"#DejaVuSans-73\" x=\"280.867188\"/>\n    </g>\n   </g>\n   <g id=\"legend_1\">\n    <g id=\"patch_7\">\n     <path d=\"M 327.350938 61.498 \nL 408.561875 61.498 \nQ 410.561875 61.498 410.561875 59.498 \nL 410.561875 31.14175 \nQ 410.561875 29.14175 408.561875 29.14175 \nL 327.350938 29.14175 \nQ 325.350938 29.14175 325.350938 31.14175 \nL 325.350938 59.498 \nQ 325.350938 61.498 327.350938 61.498 \nz\n\" style=\"fill: #e5e5e5; opacity: 0.8; stroke: #cccccc; stroke-width: 0.5; stroke-linejoin: miter\"/>\n    </g>\n    <g id=\"line2d_97\">\n     <path d=\"M 329.350938 37.240187 \nL 339.350938 37.240187 \nL 349.350938 37.240187 \n\" style=\"fill: none; stroke: #e24a33; stroke-width: 1.5; stroke-linecap: square\"/>\n    </g>\n    <g id=\"text_51\">\n     <!-- Train Loss -->\n     <g transform=\"translate(357.350938 40.740187) scale(0.1 -0.1)\">\n      <defs>\n       <path id=\"DejaVuSans-54\" d=\"M -19 4666 \nL 3928 4666 \nL 3928 4134 \nL 2272 4134 \nL 2272 0 \nL 1638 0 \nL 1638 4134 \nL -19 4134 \nL -19 4666 \nz\n\" transform=\"scale(0.015625)\"/>\n       <path id=\"DejaVuSans-72\" d=\"M 2631 2963 \nQ 2534 3019 2420 3045 \nQ 2306 3072 2169 3072 \nQ 1681 3072 1420 2755 \nQ 1159 2438 1159 1844 \nL 1159 0 \nL 581 0 \nL 581 3500 \nL 1159 3500 \nL 1159 2956 \nQ 1341 3275 1631 3429 \nQ 1922 3584 2338 3584 \nQ 2397 3584 2469 3576 \nQ 2541 3569 2628 3553 \nL 2631 2963 \nz\n\" transform=\"scale(0.015625)\"/>\n       <path id=\"DejaVuSans-61\" d=\"M 2194 1759 \nQ 1497 1759 1228 1600 \nQ 959 1441 959 1056 \nQ 959 750 1161 570 \nQ 1363 391 1709 391 \nQ 2188 391 2477 730 \nQ 2766 1069 2766 1631 \nL 2766 1759 \nL 2194 1759 \nz\nM 3341 1997 \nL 3341 0 \nL 2766 0 \nL 2766 531 \nQ 2569 213 2275 61 \nQ 1981 -91 1556 -91 \nQ 1019 -91 701 211 \nQ 384 513 384 1019 \nQ 384 1609 779 1909 \nQ 1175 2209 1959 2209 \nL 2766 2209 \nL 2766 2266 \nQ 2766 2663 2505 2880 \nQ 2244 3097 1772 3097 \nQ 1472 3097 1187 3025 \nQ 903 2953 641 2809 \nL 641 3341 \nQ 956 3463 1253 3523 \nQ 1550 3584 1831 3584 \nQ 2591 3584 2966 3190 \nQ 3341 2797 3341 1997 \nz\n\" transform=\"scale(0.015625)\"/>\n       <path id=\"DejaVuSans-69\" d=\"M 603 3500 \nL 1178 3500 \nL 1178 0 \nL 603 0 \nL 603 3500 \nz\nM 603 4863 \nL 1178 4863 \nL 1178 4134 \nL 603 4134 \nL 603 4863 \nz\n\" transform=\"scale(0.015625)\"/>\n       <path id=\"DejaVuSans-6e\" d=\"M 3513 2113 \nL 3513 0 \nL 2938 0 \nL 2938 2094 \nQ 2938 2591 2744 2837 \nQ 2550 3084 2163 3084 \nQ 1697 3084 1428 2787 \nQ 1159 2491 1159 1978 \nL 1159 0 \nL 581 0 \nL 581 3500 \nL 1159 3500 \nL 1159 2956 \nQ 1366 3272 1645 3428 \nQ 1925 3584 2291 3584 \nQ 2894 3584 3203 3211 \nQ 3513 2838 3513 2113 \nz\n\" transform=\"scale(0.015625)\"/>\n      </defs>\n      <use xlink:href=\"#DejaVuSans-54\"/>\n      <use xlink:href=\"#DejaVuSans-72\" x=\"46.333984\"/>\n      <use xlink:href=\"#DejaVuSans-61\" x=\"87.447266\"/>\n      <use xlink:href=\"#DejaVuSans-69\" x=\"148.726562\"/>\n      <use xlink:href=\"#DejaVuSans-6e\" x=\"176.509766\"/>\n      <use xlink:href=\"#DejaVuSans-20\" x=\"239.888672\"/>\n      <use xlink:href=\"#DejaVuSans-4c\" x=\"271.675781\"/>\n      <use xlink:href=\"#DejaVuSans-6f\" x=\"325.638672\"/>\n      <use xlink:href=\"#DejaVuSans-73\" x=\"386.820312\"/>\n      <use xlink:href=\"#DejaVuSans-73\" x=\"438.919922\"/>\n     </g>\n    </g>\n    <g id=\"line2d_98\">\n     <path d=\"M 329.350938 51.918312 \nL 339.350938 51.918312 \nL 349.350938 51.918312 \n\" style=\"fill: none; stroke: #348abd; stroke-width: 1.5; stroke-linecap: square\"/>\n    </g>\n    <g id=\"text_52\">\n     <!-- Valid Loss -->\n     <g transform=\"translate(357.350938 55.418312) scale(0.1 -0.1)\">\n      <defs>\n       <path id=\"DejaVuSans-56\" d=\"M 1831 0 \nL 50 4666 \nL 709 4666 \nL 2188 738 \nL 3669 4666 \nL 4325 4666 \nL 2547 0 \nL 1831 0 \nz\n\" transform=\"scale(0.015625)\"/>\n       <path id=\"DejaVuSans-6c\" d=\"M 603 4863 \nL 1178 4863 \nL 1178 0 \nL 603 0 \nL 603 4863 \nz\n\" transform=\"scale(0.015625)\"/>\n       <path id=\"DejaVuSans-64\" d=\"M 2906 2969 \nL 2906 4863 \nL 3481 4863 \nL 3481 0 \nL 2906 0 \nL 2906 525 \nQ 2725 213 2448 61 \nQ 2172 -91 1784 -91 \nQ 1150 -91 751 415 \nQ 353 922 353 1747 \nQ 353 2572 751 3078 \nQ 1150 3584 1784 3584 \nQ 2172 3584 2448 3432 \nQ 2725 3281 2906 2969 \nz\nM 947 1747 \nQ 947 1113 1208 752 \nQ 1469 391 1925 391 \nQ 2381 391 2643 752 \nQ 2906 1113 2906 1747 \nQ 2906 2381 2643 2742 \nQ 2381 3103 1925 3103 \nQ 1469 3103 1208 2742 \nQ 947 2381 947 1747 \nz\n\" transform=\"scale(0.015625)\"/>\n      </defs>\n      <use xlink:href=\"#DejaVuSans-56\"/>\n      <use xlink:href=\"#DejaVuSans-61\" x=\"60.658203\"/>\n      <use xlink:href=\"#DejaVuSans-6c\" x=\"121.9375\"/>\n      <use xlink:href=\"#DejaVuSans-69\" x=\"149.720703\"/>\n      <use xlink:href=\"#DejaVuSans-64\" x=\"177.503906\"/>\n      <use xlink:href=\"#DejaVuSans-20\" x=\"240.980469\"/>\n      <use xlink:href=\"#DejaVuSans-4c\" x=\"272.767578\"/>\n      <use xlink:href=\"#DejaVuSans-6f\" x=\"326.730469\"/>\n      <use xlink:href=\"#DejaVuSans-73\" x=\"387.912109\"/>\n      <use xlink:href=\"#DejaVuSans-73\" x=\"440.011719\"/>\n     </g>\n    </g>\n   </g>\n  </g>\n </g>\n <defs>\n  <clipPath id=\"pb45944c96e\">\n   <rect x=\"58.441875\" y=\"24.14175\" width=\"357.12\" height=\"266.112\"/>\n  </clipPath>\n </defs>\n</svg>\n"
          },
          "metadata": {}
        }
      ]
    },
    {
      "cell_type": "markdown",
      "source": [
        "# Accuracy"
      ],
      "metadata": {
        "id": "O_ZhrpVXmmMZ"
      }
    },
    {
      "cell_type": "code",
      "source": [
        "model.eval()\n",
        "model.to(device)\n",
        "num_correct = 0\n",
        "num_samples = 0\n",
        "predictions = []\n",
        "answers = []\n",
        "\n",
        "with torch.no_grad():\n",
        "    for image, text, label in testloader:\n",
        "        image, text, label =  image.to(device), text.to(device), label.to(device)\n",
        "        probs = model.forward(image, text)\n",
        "\n",
        "        _, prediction = probs.max(1)\n",
        "        predictions.append(prediction)      \n",
        "\n",
        "        answer = torch.argmax(label, dim=1) \n",
        "        answers.append(answer)\n",
        "\n",
        "        num_correct += (prediction == answer).sum()\n",
        "        num_samples += prediction.size(0)\n",
        "        \n",
        "    valid_acc = (f'Got {num_correct} / {num_samples} with accuracy {float(num_correct)/float(num_samples)*100:.2f}')     \n",
        "    print(valid_acc)\n",
        "\n",
        "    wandb.log({\n",
        "    \"Validation Accuracy\": round(float(num_correct)/float(num_samples)*100, 2)})        "
      ],
      "metadata": {
        "id": "-HX8IS56QN2p",
        "colab": {
          "base_uri": "https://localhost:8080/"
        },
        "outputId": "e83ba281-1623-4ed7-bee5-3e49a8d185da"
      },
      "execution_count": null,
      "outputs": [
        {
          "output_type": "stream",
          "name": "stdout",
          "text": [
            "Got 6552 / 9673 with accuracy 67.73\n"
          ]
        }
      ]
    },
    {
      "cell_type": "code",
      "source": [
        "# predictions = torch.cat(predictions, dim=0)\n",
        "# answers = torch.cat(answers, dim=0)"
      ],
      "metadata": {
        "id": "-jBYDDYObePZ"
      },
      "execution_count": null,
      "outputs": []
    },
    {
      "cell_type": "code",
      "source": [
        "# #!pip install torcheval # f1 score\n",
        "# from torcheval.metrics.functional import multiclass_f1_score\n",
        "# predictions = torch.cat(predictions, dim=0)\n",
        "# answers = torch.cat(answers, dim=0)\n",
        "# multiclass_f1_score(predictions, answers, num_classes=13)\n",
        "break"
      ],
      "metadata": {
        "id": "f_-ol5eEUtQo"
      },
      "execution_count": null,
      "outputs": []
    },
    {
      "cell_type": "markdown",
      "source": [
        "# Save and load model"
      ],
      "metadata": {
        "id": "9LXdubtNTdvN"
      }
    },
    {
      "cell_type": "code",
      "source": [
        "# set path\n",
        "# from pathlib import Path\n",
        "# from google.colab import drive\n",
        "# drive.mount('/content/drive')\n",
        "# project_path = '/content/drive/MyDrive/FSDL/'\n",
        "# project_path = Path(project_path)\n",
        "\n",
        "# torch.save(model.state_dict(), project_path/'newset')\n",
        "model = VQA(vocab_size = 25, num_answers = 13)\n",
        "model.load_state_dict(torch.load(project_path/'newset'))\n",
        "model.eval()"
      ],
      "metadata": {
        "id": "BqVF0--mTc-a",
        "colab": {
          "base_uri": "https://localhost:8080/"
        },
        "outputId": "1b865651-6fcd-4529-f4ec-ad1e3ab03267"
      },
      "execution_count": null,
      "outputs": [
        {
          "output_type": "execute_result",
          "data": {
            "text/plain": [
              "VQA(\n",
              "  (conv1): Conv2d(3, 8, kernel_size=(3, 3), stride=(1, 1))\n",
              "  (pool1): MaxPool2d(kernel_size=2, stride=2, padding=0, dilation=1, ceil_mode=False)\n",
              "  (conv2): Conv2d(8, 16, kernel_size=(3, 3), stride=(1, 1))\n",
              "  (pool2): MaxPool2d(kernel_size=2, stride=2, padding=0, dilation=1, ceil_mode=False)\n",
              "  (conv3): Conv2d(16, 32, kernel_size=(3, 3), stride=(1, 1))\n",
              "  (pool3): MaxPool2d(kernel_size=2, stride=2, padding=0, dilation=1, ceil_mode=False)\n",
              "  (fc1): Linear(in_features=1152, out_features=32, bias=True)\n",
              "  (fc2): Linear(in_features=25, out_features=32, bias=True)\n",
              "  (fc3): Linear(in_features=32, out_features=32, bias=True)\n",
              "  (fc4): Linear(in_features=64, out_features=32, bias=True)\n",
              "  (fc5): Linear(in_features=32, out_features=13, bias=True)\n",
              ")"
            ]
          },
          "metadata": {},
          "execution_count": 22
        }
      ]
    },
    {
      "cell_type": "code",
      "source": [
        "from torch.utils.data import DataLoader\n",
        "train_dataset = CustomDataset(train_X_ims, train_X_seqs, train_Y)\n",
        "test_dataset = CustomDataset(test_X_ims, test_X_seqs, test_Y)\n",
        "trainloader = DataLoader(train_dataset, shuffle=True, batch_size=10)\n",
        "testloader = DataLoader(test_dataset, batch_size=10)"
      ],
      "metadata": {
        "id": "JY8ze_5de42e"
      },
      "execution_count": null,
      "outputs": []
    },
    {
      "cell_type": "code",
      "source": [
        "#model.to(device)\n",
        "with torch.no_grad():\n",
        "    for image, text, label in testloader:\n",
        "        image, text, label =  image, text, label\n",
        "        probs = model.forward(image, text)\n",
        "        print(probs)\n",
        "        break"
      ],
      "metadata": {
        "colab": {
          "base_uri": "https://localhost:8080/"
        },
        "id": "8d3Hg5U8dVZP",
        "outputId": "4562f5f9-eff0-4f45-ee3e-5f3fd2029394"
      },
      "execution_count": null,
      "outputs": [
        {
          "output_type": "stream",
          "name": "stdout",
          "text": [
            "tensor([[ 4.7088, -1.0701, -1.1138, -1.1717, -4.6257, -1.0193, -1.1021,  4.7497,\n",
            "         -1.1118,  4.7757, -0.9891, -0.8938, -1.4652]])\n"
          ]
        }
      ]
    },
    {
      "cell_type": "code",
      "source": [
        "with torch.no_grad():\n",
        "    for image, text, label in testloader:\n",
        "        image, text, label =  image, text, label\n",
        "        probs = model.forward(image, text)\n",
        "        answer_idx = torch.argmax(probs, dim=1) # get index of answer with highest probability\n",
        "        answer_text = [all_answers[idx] for idx in answer_idx] # convert index to answer text\n",
        "        print(answer_text)\n",
        "        break"
      ],
      "metadata": {
        "id": "9lUpEPEzgUeM"
      },
      "execution_count": null,
      "outputs": []
    },
    {
      "cell_type": "markdown",
      "source": [
        "# Misc : Debugging and analysis"
      ],
      "metadata": {
        "id": "ky56XcIMWb0A"
      }
    },
    {
      "cell_type": "code",
      "source": [
        "conv1 = nn.Conv2d(3, 8, kernel_size=3)\n",
        "pool1 = nn.MaxPool2d(kernel_size=2)\n",
        "conv2 = nn.Conv2d(8, 16, kernel_size=3)\n",
        "pool2 = nn.MaxPool2d(kernel_size=2)\n",
        "conv3 = nn.Conv2d(16, 32, kernel_size=3) # output shape (batch_size, 32, 12, 12)\n",
        "pool3 = nn.MaxPool2d(kernel_size=2)      # output shape (batch_size, 32, 6, 6)\n",
        "\n",
        "fc1 = nn.Linear(32*6*6, 32)\n",
        "fc2 = nn.Linear(vocab_size, 32)        \n",
        "fc3 = nn.Linear(32, 32)\n",
        "fc4 = nn.Linear(32, 32)\n",
        "fc5 = nn.Linear(32, num_answers)"
      ],
      "metadata": {
        "id": "Ehk_zMH-90DQ"
      },
      "execution_count": null,
      "outputs": []
    },
    {
      "cell_type": "code",
      "source": [
        "a = train_X_ims[0]\n",
        "print(a.shape)\n",
        "a = conv1(a)\n",
        "print(a.shape)\n",
        "a = pool1(a)\n",
        "print(a.shape)\n",
        "a = conv2(a)\n",
        "print(a.shape)\n",
        "a = pool2(a)\n",
        "print(a.shape)\n",
        "a = conv3(a)\n",
        "print(a.shape)\n",
        "a = pool3(a)\n",
        "print(a.shape)\n",
        "a = a.view(-1)\n",
        "print(a.shape)\n",
        "a = fc1(a)     # (1x3136 and 3136x32) --> (input and weights) --> (1x32)\n",
        "print(a.shape)\n",
        "print(fc1.weight.dtype, a.dtype)"
      ],
      "metadata": {
        "id": "Z37-cq2m-Ffu"
      },
      "execution_count": null,
      "outputs": []
    },
    {
      "cell_type": "code",
      "source": [
        "b = train_X_seqs[0]\n",
        "print(b.shape)\n",
        "b = torch.tensor(b, dtype=torch.float) # convert ndarray to tensor                        \n",
        "print(fc2.weight.dtype, b.dtype)\n",
        "b = fc2(b)\n",
        "print(b.shape)\n",
        "b = fc3(b)\n",
        "print(b.shape)"
      ],
      "metadata": {
        "id": "gsOmRFT7BAg2"
      },
      "execution_count": null,
      "outputs": []
    },
    {
      "cell_type": "code",
      "source": [
        "out = torch.cat((a, b), 0)\n",
        "out.shape"
      ],
      "metadata": {
        "id": "AJ3cwnOYf1ku"
      },
      "execution_count": null,
      "outputs": []
    },
    {
      "cell_type": "code",
      "source": [
        "out = torch.mul(a, b)\n",
        "out.shape"
      ],
      "metadata": {
        "id": "ZRP-Qc2iGywP"
      },
      "execution_count": null,
      "outputs": []
    },
    {
      "cell_type": "code",
      "source": [
        "#out = mul(x, q)\n",
        "out = torch.tanh(fc4(out))\n",
        "print(out.shape)\n",
        "out = fc5(out)\n",
        "print(out.shape)"
      ],
      "metadata": {
        "id": "0lWDcvDXQ0TU"
      },
      "execution_count": null,
      "outputs": []
    },
    {
      "cell_type": "code",
      "source": [
        "out"
      ],
      "metadata": {
        "id": "PJ4cFWi4R0Yv"
      },
      "execution_count": null,
      "outputs": []
    },
    {
      "cell_type": "code",
      "source": [
        "d = model(train_X_ims[0], train_X_seqs[0])\n",
        "d"
      ],
      "metadata": {
        "id": "KF8G1oSfSAFf"
      },
      "execution_count": null,
      "outputs": []
    },
    {
      "cell_type": "code",
      "source": [
        "d.dtype"
      ],
      "metadata": {
        "id": "wNs4cGAVST5n"
      },
      "execution_count": null,
      "outputs": []
    },
    {
      "cell_type": "code",
      "source": [
        "label.dtype"
      ],
      "metadata": {
        "id": "O2G3gBMCTI2K"
      },
      "execution_count": null,
      "outputs": []
    },
    {
      "cell_type": "code",
      "source": [
        "outputs.dtype"
      ],
      "metadata": {
        "id": "zXbniCQXTOSa"
      },
      "execution_count": null,
      "outputs": []
    },
    {
      "cell_type": "code",
      "source": [],
      "metadata": {
        "id": "t5XzHLAqLZ-s"
      },
      "execution_count": null,
      "outputs": []
    }
  ]
}